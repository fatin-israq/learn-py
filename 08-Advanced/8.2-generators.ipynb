{
 "cells": [
  {
   "cell_type": "markdown",
   "id": "df4302e5",
   "metadata": {},
   "source": [
    "# Generators\n",
    "\n",
    "Generators are a simpler way to create iterators. They use the yield keyword to produce a series of values lazily, which means they generate values on the fly and do not store them in memory."
   ]
  },
  {
   "cell_type": "code",
   "execution_count": 5,
   "id": "c959dcec",
   "metadata": {},
   "outputs": [],
   "source": [
    "def square(n):\n",
    "    for i in range(3):\n",
    "        yield i**2"
   ]
  },
  {
   "cell_type": "code",
   "execution_count": 6,
   "id": "c1ec5d0a",
   "metadata": {},
   "outputs": [
    {
     "data": {
      "text/plain": [
       "<generator object square at 0x106d360c0>"
      ]
     },
     "execution_count": 6,
     "metadata": {},
     "output_type": "execute_result"
    }
   ],
   "source": [
    "square(3)"
   ]
  },
  {
   "cell_type": "code",
   "execution_count": 7,
   "id": "9deacbe8",
   "metadata": {},
   "outputs": [
    {
     "name": "stdout",
     "output_type": "stream",
     "text": [
      "0\n",
      "1\n",
      "4\n"
     ]
    }
   ],
   "source": [
    "for i in square(3):\n",
    "    print(i)"
   ]
  },
  {
   "cell_type": "code",
   "execution_count": 9,
   "id": "2e2f49f0",
   "metadata": {},
   "outputs": [
    {
     "data": {
      "text/plain": [
       "<generator object square at 0x106d34e10>"
      ]
     },
     "execution_count": 9,
     "metadata": {},
     "output_type": "execute_result"
    }
   ],
   "source": [
    "a = square(3)\n",
    "a"
   ]
  },
  {
   "cell_type": "code",
   "execution_count": null,
   "id": "cb71fec7",
   "metadata": {},
   "outputs": [
    {
     "ename": "StopIteration",
     "evalue": "",
     "output_type": "error",
     "traceback": [
      "\u001b[31m---------------------------------------------------------------------------\u001b[39m",
      "\u001b[31mStopIteration\u001b[39m                             Traceback (most recent call last)",
      "\u001b[36mCell\u001b[39m\u001b[36m \u001b[39m\u001b[32mIn[14]\u001b[39m\u001b[32m, line 1\u001b[39m\n\u001b[32m----> \u001b[39m\u001b[32m1\u001b[39m \u001b[38;5;28;43mnext\u001b[39;49m\u001b[43m(\u001b[49m\u001b[43ma\u001b[49m\u001b[43m)\u001b[49m\n",
      "\u001b[31mStopIteration\u001b[39m: "
     ]
    }
   ],
   "source": [
    "next(a)\n",
    "\n",
    "# a is an iterator\n",
    "# First it's output was 0, 1, and then 4\n",
    "# Finally this StopIteration exception"
   ]
  },
  {
   "cell_type": "code",
   "execution_count": 15,
   "id": "25e36f1b",
   "metadata": {},
   "outputs": [],
   "source": [
    "def my_generator():\n",
    "    yield 1\n",
    "    yield 2\n",
    "    yield 3"
   ]
  },
  {
   "cell_type": "code",
   "execution_count": 17,
   "id": "b41b660a",
   "metadata": {},
   "outputs": [
    {
     "data": {
      "text/plain": [
       "<generator object my_generator at 0x107335c70>"
      ]
     },
     "execution_count": 17,
     "metadata": {},
     "output_type": "execute_result"
    }
   ],
   "source": [
    "gen = my_generator()\n",
    "gen"
   ]
  },
  {
   "cell_type": "code",
   "execution_count": 19,
   "id": "e0bf31d7",
   "metadata": {},
   "outputs": [
    {
     "data": {
      "text/plain": [
       "2"
      ]
     },
     "execution_count": 19,
     "metadata": {},
     "output_type": "execute_result"
    }
   ],
   "source": [
    "# iterating through gen iterator object\n",
    "next(gen)       # 1, 2, 3 (one by one)"
   ]
  },
  {
   "cell_type": "code",
   "execution_count": 23,
   "id": "1859cbb4",
   "metadata": {},
   "outputs": [
    {
     "name": "stdout",
     "output_type": "stream",
     "text": [
      "1\n",
      "2\n",
      "3\n"
     ]
    }
   ],
   "source": [
    "gen2 = my_generator()\n",
    "for val in gen2:\n",
    "    print(val)"
   ]
  },
  {
   "cell_type": "markdown",
   "id": "8eb53152",
   "metadata": {},
   "source": [
    "### Practical: Reading Large Files\n",
    "\n",
    "Generators are particularly useful for reading large files because they allow you to process one line at a time, without loading the entire file into memory."
   ]
  },
  {
   "cell_type": "code",
   "execution_count": 25,
   "id": "e17833c8",
   "metadata": {},
   "outputs": [],
   "source": [
    "### Reading large files\n",
    "\n",
    "def read_large_file(file_path):\n",
    "    with open(file_path, 'r') as file:\n",
    "        for line in file:\n",
    "            yield line"
   ]
  },
  {
   "cell_type": "code",
   "execution_count": 26,
   "id": "f90b1f12",
   "metadata": {},
   "outputs": [
    {
     "name": "stdout",
     "output_type": "stream",
     "text": [
      "How to Become a Python Developer: A 10-step Guide\n",
      "This detailed guide will help you develop a successful career as a Python developer.\n",
      "\n",
      "1. Do a Prep Course or Start With an Introductory Tutorial\n",
      "Take a short prep course on Python and the wider field of software development. This will introduce you to the language before you start the full-fledged process of becoming a Python developer.\n",
      "\n",
      "Why Start Here\n",
      "Understand Python's capabilities and where it fits in software development\n",
      "Get familiar with programming logic, syntax, and tools\n",
      "Decide if the Python path aligns with your long-term career goals\n",
      "Recommended Resources\n",
      "Simplilearn’s “Ultimate Python Tutorial for Beginners”\n",
      "Simplilearn’s “Python Full Course 2025 | Python Programming Tutorial For Beginners”\n",
      "Free SkillUp course on “Python for Beginners”\n",
      "Supercharge your programming expertise with Simplilearn's Python Training! Join today and take your coding career to the next level.\n",
      "\n",
      "\n",
      "2. Learn Python Syntax and Fundamentals\n",
      "Understand the unique syntactic quirks as early as possible to avoid roadblocks later. However, it is a very simple language to learn for beginners.\n",
      "\n",
      "Core Concepts to Master\n",
      "Variables, Data Types, and Operators\n",
      "Conditional Statements and Loops\n",
      "Functions and Scope\n",
      "Lists, Tuples, Dictionaries, and Sets\n",
      "File Handling\n",
      "Exception Handling\n",
      "3. Explore Learning Paths–Choose How You Want to Learn\n",
      "Whether you are a college student, working professional, or self-learner, Python offers flexible learning routes.\n",
      "\n",
      "Popular Learning Options\n",
      "University Degree: Best for long-term networking and career access\n",
      "Bootcamps: Fast-track your way into the field with job-ready skills\n",
      "Self-Taught: Learn at your own pace with free or paid resources\n",
      "Online Certifications: Choose from well-known platforms\n",
      "YouTube & Blogs: Great for visual learners and free tips/tricks\n",
      "\n",
      "\n",
      "\n",
      "4. Understand Object-Oriented Programming and Core Software Concepts\n",
      "A solid understanding of OOP and related tools is essential to build scalable applications in Python.\n",
      "Key Concepts\n",
      "OOP: Classes, Objects, Inheritance, and Encapsulation\n",
      "Git and Version Control: Learn GitHub basics\n",
      "Working with APIs and RESTful Services\n",
      "Debugging and Unit Testing (e.g., unittest, pytest)\n",
      "Clean Code and Documentation Practices\n",
      "Tools to Explore\n",
      "Git, GitHub\n",
      "Postman (API Testing)\n",
      "PyCharm / VS Code (IDEs)\n",
      "\n",
      "\n",
      "5. Dive Into Python Frameworks and Specializations\n",
      "Frameworks help you build real-world applications efficiently. Choose a specialization to shape your future path.\n",
      "Popular Frameworks\n",
      "Web Development: Flask, Django, Pyramid\n",
      "Data Science: Pandas, NumPy, Matplotlib\n",
      "Machine Learning: scikit-learn, TensorFlow, PyTorch\n",
      "DevOps & Scripting: Fabric, Ansible\n",
      "Specialization Options\n",
      "Web Developer\n",
      "Data Scientist\n",
      "Machine Learning Engineer\n",
      "DevOps Engineer\n",
      "Automation/Scripting Expert\n",
      "\n",
      "6. Build Real-World Projects\n",
      "Hands-on experience is the best teacher. Start creating projects to deepen your knowledge and demonstrate your skills.\n",
      "\n",
      "Project Ideas\n",
      "Web App (e.g., Blog, Portfolio Site)\n",
      "Data Dashboard or Analysis Report\n",
      "Chatbot or Web Scraper\n",
      "Machine Learning Model\n",
      "Platforms to Practice\n",
      "GitHub (for code hosting)\n",
      "Replit or Jupyter Notebooks (for quick prototyping)\n",
      "Pro Tip: Keep a structured project folder with README, code, and documentation.\n",
      "\n",
      "\n",
      "7. Contribute to Open-Source and Freelance Projects\n",
      "Apply your skills in real-world settings through contributions and collaborations. Actively engage in real-world projects and open-source contributions to build a demonstrable portfolio and gain practical experience.\n",
      "\n",
      "Why it Matters\n",
      "Learn from peer code reviews\n",
      "Improve your coding habits\n",
      "Network with other developers\n",
      "Boost visibility in the Python community\n",
      "Where to Start\n",
      "GitHub: Explore “good first issues”\n",
      "Open Source Projects: Mozilla, Django, and Scikit-learn\n",
      "Freelance Platforms: Upwork, Fiverr, and Freelancer\n",
      "8. Build a Portfolio and Share Your Work\n",
      "A well-curated portfolio illustrates your technical knowledge and passion, giving employers concrete evidence of your skills and where your interests lie.\n",
      "\n",
      "How to Build One\n",
      "Showcase 3–5 solid projects (ideally diverse in scope)\n",
      "Include GitHub repositories with clear documentation\n",
      "Add a blog or YouTube channel to share your learning journey\n",
      "9. Gain Real-World Experience Through Internships or Mentorship\n",
      "Internships and mentorship provide industry exposure and help transition from learner to professional.\n",
      "\n",
      "Internship Benefits\n",
      "Apply concepts in a team setting\n",
      "Learn project workflows\n",
      "Receive guidance and feedback\n",
      "Mentorship Benefits\n",
      "Gain insider tips and best practices\n",
      "Get help navigating career decisions\n",
      "Stay motivated and accountable\n",
      "10. Prepare for Jobs and Stay Consistent\n",
      "Maintain consistency because it is the ultimate key here. Learning will continue, but you must prepare strategically for job opportunities.\n",
      "\n",
      "Resume Tips\n",
      "Highlight technical skills and Python projects\n",
      "Tailor your resume to job descriptions\n",
      "Include GitHub links, certifications, and contact info\n",
      "Job Boards\n",
      "LinkedIn, Glassdoor, Indeed, Naukri, AngelList (for startups), etc\n",
      "Keep Practicing\n",
      "Solve Python problems on platforms like LeetCode or HackerRank\n",
      "Stay updated with Python news and best practices\n",
      "Transform your career with the Full Stack Development Program with Generative AI. Master cutting-edge front-end, back-end, and AI integration skills to build intelligent, dynamic applications. Enroll now to future-proof your expertise and lead the next wave of innovation.\n"
     ]
    }
   ],
   "source": [
    "file_path = 'large_file.txt'\n",
    "\n",
    "for line in read_large_file(file_path):\n",
    "    print(line.strip())"
   ]
  }
 ],
 "metadata": {
  "kernelspec": {
   "display_name": "Python 3",
   "language": "python",
   "name": "python3"
  },
  "language_info": {
   "codemirror_mode": {
    "name": "ipython",
    "version": 3
   },
   "file_extension": ".py",
   "mimetype": "text/x-python",
   "name": "python",
   "nbconvert_exporter": "python",
   "pygments_lexer": "ipython3",
   "version": "3.13.5"
  }
 },
 "nbformat": 4,
 "nbformat_minor": 5
}
