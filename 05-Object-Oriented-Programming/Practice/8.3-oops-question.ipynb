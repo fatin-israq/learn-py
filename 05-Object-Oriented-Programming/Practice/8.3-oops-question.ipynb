{
 "cells": [
  {
   "cell_type": "markdown",
   "id": "2ec09031",
   "metadata": {},
   "source": [
    "# Module: OOP Assignments\n",
    "## Lesson: Polymorphism, Abstraction, and Encapsulation\n",
    "### Assignment 1: Polymorphism with Methods\n",
    "\n",
    "Create a base class named `Shape` with a method `area`. Create two derived classes `Circle` and `Square` that override the `area` method. Create a list of `Shape` objects and call the `area` method on each object to demonstrate polymorphism."
   ]
  },
  {
   "cell_type": "code",
   "execution_count": 2,
   "id": "7d74a3a8",
   "metadata": {},
   "outputs": [
    {
     "name": "stdout",
     "output_type": "stream",
     "text": [
      "28.274333882308138\n",
      "16.0\n",
      "25.0\n"
     ]
    }
   ],
   "source": [
    "from math import pi, pow\n",
    "\n",
    "class Shape:\n",
    "    def area():\n",
    "        pass\n",
    "\n",
    "class Circle(Shape):\n",
    "    def __init__(self, radius):\n",
    "        self.radius = radius\n",
    "    def area(self):\n",
    "        return pi * pow(self.radius, 2)\n",
    "    \n",
    "class Square(Shape):\n",
    "    def __init__(self, bahu):\n",
    "        self.bahu = bahu\n",
    "    def area(self):\n",
    "        return pow(self.bahu, 2)\n",
    "    \n",
    "shapes = [Circle(3), Square(4), Square(5)]\n",
    "for shape in shapes:\n",
    "    print(shape.area())"
   ]
  }
 ],
 "metadata": {
  "kernelspec": {
   "display_name": "Python 3",
   "language": "python",
   "name": "python3"
  },
  "language_info": {
   "codemirror_mode": {
    "name": "ipython",
    "version": 3
   },
   "file_extension": ".py",
   "mimetype": "text/x-python",
   "name": "python",
   "nbconvert_exporter": "python",
   "pygments_lexer": "ipython3",
   "version": "3.13.5"
  }
 },
 "nbformat": 4,
 "nbformat_minor": 5
}
