{
 "cells": [
  {
   "cell_type": "markdown",
   "id": "08735a97",
   "metadata": {},
   "source": [
    "# Module: Inheritance Assignments\n",
    "## Lesson: Single and Multiple Inheritance\n",
    "### Assignment 1: Single Inheritance Basic\n",
    "\n",
    "Create a base class named `Animal` with attributes `name` and `species`. Create a derived class named `Dog` that inherits from `Animal` and adds an attribute `breed`. Create an object of the `Dog` class and print its attributes.\n",
    "\n",
    "### Assignment 2: Method Overriding in Single Inheritance\n",
    "\n",
    "In the `Dog` class, override the `__str__` method to return a string representation of the object. Create an object of the class and print it."
   ]
  },
  {
   "cell_type": "code",
   "execution_count": 5,
   "id": "fc4f15af",
   "metadata": {},
   "outputs": [
    {
     "name": "stdout",
     "output_type": "stream",
     "text": [
      "Dog: Rusty, German Shephard\n"
     ]
    }
   ],
   "source": [
    "class Animal:\n",
    "    def __init__(self, name, species):\n",
    "        self.name = name\n",
    "        self.species = species\n",
    "\n",
    "class Dog(Animal):\n",
    "    def __init__(self, name, species, breed):\n",
    "        super().__init__(name, species)\n",
    "        self.breed = breed\n",
    "    def __str__(self):\n",
    "        return f\"{self.species}: {self.name}, {self.breed}\"\n",
    "\n",
    "germanshephard = Dog(\"Rusty\", \"Dog\", \"German Shephard\")\n",
    "print(germanshephard)"
   ]
  },
  {
   "cell_type": "markdown",
   "id": "9bdae34c",
   "metadata": {},
   "source": [
    "### Assignment 3: Single Inheritance with Additional Methods\n",
    "\n",
    "In the `Dog` class, add a method named `bark` that prints a barking sound. Create an object of the class and call the method.\n"
   ]
  },
  {
   "cell_type": "code",
   "execution_count": 7,
   "id": "acfb9f29",
   "metadata": {},
   "outputs": [
    {
     "name": "stdout",
     "output_type": "stream",
     "text": [
      "Golden Retriever is barking\n"
     ]
    }
   ],
   "source": [
    "class Dog(Animal):\n",
    "    def __init__(self, name, species, breed):\n",
    "        super().__init__(name, species)\n",
    "        self.breed = breed\n",
    "    def __str__(self):\n",
    "        return f\"{self.species}: {self.name}, {self.breed}\"\n",
    "    def bark(self):\n",
    "        print(f\"{self.breed} is barking\")\n",
    "\n",
    "golden = Dog(\"Lucy\", \"Dog\", \"Golden Retriever\")\n",
    "golden.bark()"
   ]
  },
  {
   "cell_type": "markdown",
   "id": "686b2d3a",
   "metadata": {},
   "source": [
    "### Assignment 4: Multiple Inheritance Basic\n",
    "\n",
    "Create a base class named `Walker` with a method `walk` that prints a walking message. Create another base class named `Runner` with a method `run` that prints a running message. Create a derived class named `Athlete` that inherits from both `Walker` and `Runner`. Create an object of the `Athlete` class and call both methods."
   ]
  },
  {
   "cell_type": "code",
   "execution_count": 10,
   "id": "8c51c3d5",
   "metadata": {},
   "outputs": [
    {
     "name": "stdout",
     "output_type": "stream",
     "text": [
      "A person is walking...\n",
      "A person is running...\n"
     ]
    }
   ],
   "source": [
    "class Walker:\n",
    "    def walk(self):\n",
    "        print(\"A person is walking...\")\n",
    "class Runner:\n",
    "    def run(self):\n",
    "        print(\"A person is running...\")\n",
    "class Athlete(Walker, Runner):\n",
    "    pass\n",
    "\n",
    "usain_bolt = Athlete()\n",
    "usain_bolt.walk()\n",
    "usain_bolt.run()"
   ]
  },
  {
   "cell_type": "markdown",
   "id": "d2da0aed",
   "metadata": {},
   "source": [
    "### Assignment 5: Method Resolution Order (MRO) in Multiple Inheritance\n",
    "\n",
    "In the `Athlete` class, override the `walk` method to print a different message. Create an object of the class and call the `walk` method. Use the `super()` function to call the `walk` method of the `Walker` class."
   ]
  },
  {
   "cell_type": "code",
   "execution_count": 19,
   "id": "48cd6ead",
   "metadata": {},
   "outputs": [
    {
     "name": "stdout",
     "output_type": "stream",
     "text": [
      "Somebody is trying to walk.\n",
      "A person is walking...\n"
     ]
    }
   ],
   "source": [
    "class Athlete(Walker, Runner):\n",
    "    def walk(self):\n",
    "        print(f\"Somebody is trying to walk.\")\n",
    "        super().walk()\n",
    "\n",
    "speed = Athlete()\n",
    "speed.walk()"
   ]
  },
  {
   "cell_type": "markdown",
   "id": "1cab1a70",
   "metadata": {},
   "source": [
    "### Assignment 6: Multiple Inheritance with Additional Attributes\n",
    "\n",
    "In the `Athlete` class, add an attribute `training_hours` and a method `train` that prints the training hours. Create an object of the class and call the method."
   ]
  },
  {
   "cell_type": "code",
   "execution_count": 20,
   "id": "a1a929b5",
   "metadata": {},
   "outputs": [
    {
     "name": "stdout",
     "output_type": "stream",
     "text": [
      "Training for 5 hours.\n"
     ]
    }
   ],
   "source": [
    "class Athlete(Walker, Runner):\n",
    "    def __init__(self, training_hours):\n",
    "        self.training_hours = training_hours\n",
    "    def train(self):\n",
    "        print(f\"Training for {self.training_hours} hours.\")\n",
    "\n",
    "# Test\n",
    "athlete = Athlete(5)\n",
    "athlete.train()"
   ]
  },
  {
   "cell_type": "markdown",
   "id": "6036cf7c",
   "metadata": {},
   "source": [
    "### Assignment 7: Diamond Problem in Multiple Inheritance\n",
    "\n",
    "Create a class named `A` with a method `show` that prints a message. Create two derived classes `B` and `C` that inherit from `A` and override the `show` method. Create a class `D` that inherits from both `B` and `C`. Create an object of the `D` class and call the `show` method. Observe the method resolution order."
   ]
  },
  {
   "cell_type": "code",
   "execution_count": null,
   "id": "276f2cd6",
   "metadata": {},
   "outputs": [
    {
     "name": "stdout",
     "output_type": "stream",
     "text": [
      "Printing show inside B.\n"
     ]
    }
   ],
   "source": [
    "class A:\n",
    "    def show(self):\n",
    "        print(\"Printing show inside A.\")\n",
    "class B(A):\n",
    "    def show(self):\n",
    "        print(\"Printing show inside B.\")\n",
    "class C(A):\n",
    "    def show(self):\n",
    "        print(\"Printing show inside C.\")\n",
    "class D(B, C):\n",
    "    pass\n",
    "\n",
    "d = D()\n",
    "d.show()        # B's show method"
   ]
  },
  {
   "cell_type": "markdown",
   "id": "9be63dd3",
   "metadata": {},
   "source": [
    "### Assignment 8: Using `super()` in Single Inheritance\n",
    "\n",
    "Create a base class named `Shape` with an attribute `color`. Create a derived class named `Circle` that inherits from `Shape` and adds an attribute `radius`. Use the `super()` function to initialize the attributes. Create an object of the `Circle` class and print its attributes."
   ]
  },
  {
   "cell_type": "code",
   "execution_count": null,
   "id": "a151b4fd",
   "metadata": {},
   "outputs": [
    {
     "name": "stdout",
     "output_type": "stream",
     "text": [
      "red\n",
      "5\n"
     ]
    }
   ],
   "source": [
    "class Shape:\n",
    "    def __init__(self, color):\n",
    "        self.color = color\n",
    "class Circle(Shape):\n",
    "    def __init__(self, color, radius):\n",
    "        super().__init__(color)\n",
    "        self.radius = radius\n",
    "\n",
    "circ = Circle(\"red\", 5)\n",
    "print(circ.color)   # red\n",
    "print(circ.radius)  # 5"
   ]
  },
  {
   "cell_type": "markdown",
   "id": "da3a8caf",
   "metadata": {},
   "source": [
    "### Assignment 9: Using `super()` in Multiple Inheritance\n",
    "\n",
    "Create a class named `Person` with an attribute `name`. Create a class named `Employee` with an attribute `employee_id`. Create a derived class `Manager` that inherits from both `Person` and `Employee`. Use the `super()` function to initialize the attributes. Create an object of the `Manager` class and print its attributes."
   ]
  },
  {
   "cell_type": "code",
   "execution_count": 24,
   "id": "6ac01966",
   "metadata": {},
   "outputs": [
    {
     "name": "stdout",
     "output_type": "stream",
     "text": [
      "John M123\n"
     ]
    }
   ],
   "source": [
    "class Person:\n",
    "    def __init__(self, name):\n",
    "        self.name = name\n",
    "\n",
    "class Employee():\n",
    "    def __init__(self, employee_id):\n",
    "        self.employee_id = employee_id\n",
    "\n",
    "class Manager(Person, Employee):\n",
    "    def __init__(self, name, employee_id):\n",
    "        Person.__init__(self, name)\n",
    "        Employee.__init__(self, employee_id)\n",
    "\n",
    "# Test\n",
    "manager = Manager('John', 'M123')\n",
    "print(manager.name, manager.employee_id)"
   ]
  },
  {
   "cell_type": "markdown",
   "id": "8c3a857f",
   "metadata": {},
   "source": [
    "### Assignment 10: Method Overriding and `super()`\n",
    "\n",
    "Create a class named `Vehicle` with a method `start` that prints a starting message. Create a derived class `Car` that overrides the `start` method to print a different message. Use the `super()` function to call the `start` method of the `Vehicle` class. Create an object of the `Car` class and call the `start` method."
   ]
  },
  {
   "cell_type": "code",
   "execution_count": 25,
   "id": "989dacf5",
   "metadata": {},
   "outputs": [
    {
     "name": "stdout",
     "output_type": "stream",
     "text": [
      "Car has started.\n",
      "Vehicle has started.\n"
     ]
    }
   ],
   "source": [
    "class Vehicle:\n",
    "    def start(self):\n",
    "        print(\"Vehicle has started.\")\n",
    "\n",
    "class Car(Vehicle):\n",
    "    def start(self):\n",
    "        print(\"Car has started.\")\n",
    "        super().start()\n",
    "\n",
    "car1 = Car()\n",
    "car1.start()"
   ]
  },
  {
   "cell_type": "markdown",
   "id": "9544cae4",
   "metadata": {},
   "source": [
    "### Assignment 11: Multiple Inheritance with Different Methods\n",
    "\n",
    "Create a class named `Flyer` with a method `fly` that prints a flying message. Create a class named `Swimmer` with a method `swim` that prints a swimming message. Create a derived class `Superhero` that inherits from both `Flyer` and `Swimmer`. Create an object of the `Superhero` class and call both methods."
   ]
  },
  {
   "cell_type": "code",
   "execution_count": 27,
   "id": "c0992d3b",
   "metadata": {},
   "outputs": [
    {
     "name": "stdout",
     "output_type": "stream",
     "text": [
      "Fly method called\n",
      "Swim method called\n"
     ]
    }
   ],
   "source": [
    "class Flyer:\n",
    "    def fly(self):\n",
    "        print(\"Fly method called\")\n",
    "\n",
    "class Swimmer:\n",
    "    def swim(self):\n",
    "        print(\"Swim method called\")\n",
    "\n",
    "class Superhero(Flyer, Swimmer):\n",
    "    pass\n",
    "\n",
    "superman = Superhero()\n",
    "superman.fly()\n",
    "superman.swim()"
   ]
  },
  {
   "cell_type": "markdown",
   "id": "b9923826",
   "metadata": {},
   "source": [
    "### Assignment 12: Complex Multiple Inheritance\n",
    "\n",
    "Create a class named `Base1` with an attribute `a`. Create a class named `Base2` with an attribute `b`. Create a class named `Derived` that inherits from both `Base1` and `Base2` and adds an attribute `c`. Initialize all attributes using the `super()` function. Create an object of the `Derived` class and print its attributes."
   ]
  },
  {
   "cell_type": "code",
   "execution_count": 28,
   "id": "2a99338a",
   "metadata": {},
   "outputs": [
    {
     "name": "stdout",
     "output_type": "stream",
     "text": [
      "1 2 3\n"
     ]
    }
   ],
   "source": [
    "class Base1:\n",
    "    def __init__(self, a):\n",
    "        self.a = a\n",
    "\n",
    "class Base2:\n",
    "    def __init__(self, b):\n",
    "        self.b = b\n",
    "\n",
    "class Derived(Base1, Base2):\n",
    "    def __init__(self, a, b, c):\n",
    "        super().__init__(a)\n",
    "        Base2.__init__(self, b)\n",
    "        self.c = c\n",
    "\n",
    "# Test\n",
    "derived = Derived(1, 2, 3)\n",
    "print(derived.a, derived.b, derived.c)"
   ]
  },
  {
   "cell_type": "markdown",
   "id": "92235d62",
   "metadata": {},
   "source": [
    "### Assignment 13: Checking Instance Types with Inheritance\n",
    "\n",
    "Create a base class named `Animal` and a derived class named `Cat`. Create objects of both classes and use the `isinstance` function to check the instance types."
   ]
  },
  {
   "cell_type": "code",
   "execution_count": 30,
   "id": "f418c54e",
   "metadata": {},
   "outputs": [
    {
     "name": "stdout",
     "output_type": "stream",
     "text": [
      "True\n"
     ]
    }
   ],
   "source": [
    "class Animal:\n",
    "    pass\n",
    "class Cat(Animal):\n",
    "    pass\n",
    "\n",
    "cat1 = Cat()\n",
    "print(isinstance(cat1, Animal))"
   ]
  },
  {
   "cell_type": "markdown",
   "id": "7eea1a9e",
   "metadata": {},
   "source": [
    "### Assignment 14: Polymorphism with Inheritance\n",
    "\n",
    "Create a base class named `Bird` with a method `speak`. Create two derived classes `Parrot` and `Penguin` that override the `speak` method. Create a list of `Bird` objects and call the `speak` method on each object to demonstrate polymorphism.\n"
   ]
  },
  {
   "cell_type": "code",
   "execution_count": 33,
   "id": "c07d67a5",
   "metadata": {},
   "outputs": [
    {
     "name": "stdout",
     "output_type": "stream",
     "text": [
      "Hello world, I am parrot!\n",
      "I am penguin!\n"
     ]
    }
   ],
   "source": [
    "class Bird:\n",
    "    def speak(self):\n",
    "        print(\"Chirp Chirp\")\n",
    "\n",
    "class Parrot(Bird):\n",
    "    def speak(self):\n",
    "        print(\"Hello world, I am parrot!\")\n",
    "\n",
    "class Penguin(Bird):\n",
    "    def speak(self):\n",
    "        print(\"I am penguin!\")\n",
    "\n",
    "birds = [Parrot(), Penguin()]\n",
    "for bird in birds:\n",
    "    bird.speak()"
   ]
  },
  {
   "cell_type": "markdown",
   "id": "f748faa0",
   "metadata": {},
   "source": [
    "### Assignment 15: Combining Single and Multiple Inheritance\n",
    "\n",
    "Create a base class named `Device` with an attribute `brand`. Create a derived class `Phone` that inherits from `Device` and adds an attribute `model`. Create another base class `Camera` with an attribute `resolution`. Create a derived class `Smartphone` that inherits from both `Phone` and `Camera`. Create an object of the `Smartphone` class and print its attributes."
   ]
  },
  {
   "cell_type": "code",
   "execution_count": 36,
   "id": "d386eb9c",
   "metadata": {},
   "outputs": [
    {
     "name": "stdout",
     "output_type": "stream",
     "text": [
      "Smartphone: Apple iPhone 17 Air with 48MP resolution camera.\n"
     ]
    }
   ],
   "source": [
    "class Device:\n",
    "    def __init__(self, brand):\n",
    "        self.brand = brand\n",
    "class Phone(Device):\n",
    "    def __init__(self, brand, model):\n",
    "        super().__init__(brand)\n",
    "        self.model = model\n",
    "class Camera:\n",
    "    def __init__(self, resolution):\n",
    "        self.resolution = resolution\n",
    "class Smartphone(Phone, Camera):\n",
    "    def __init__(self, brand, model, resolution):\n",
    "        super().__init__(brand, model)\n",
    "        Camera.__init__(self, resolution)\n",
    "    def __str__(self):\n",
    "        return f\"Smartphone: {self.brand} {self.model} with {self.resolution} resolution camera.\"\n",
    "\n",
    "iphone17 = Smartphone(\"Apple\", \"iPhone 17 Air\", \"48MP\")\n",
    "print(iphone17)"
   ]
  }
 ],
 "metadata": {
  "kernelspec": {
   "display_name": "Python 3",
   "language": "python",
   "name": "python3"
  },
  "language_info": {
   "codemirror_mode": {
    "name": "ipython",
    "version": 3
   },
   "file_extension": ".py",
   "mimetype": "text/x-python",
   "name": "python",
   "nbconvert_exporter": "python",
   "pygments_lexer": "ipython3",
   "version": "3.13.5"
  }
 },
 "nbformat": 4,
 "nbformat_minor": 5
}
