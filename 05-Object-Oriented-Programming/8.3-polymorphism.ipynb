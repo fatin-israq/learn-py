{
 "cells": [
  {
   "cell_type": "markdown",
   "id": "f4d1346f",
   "metadata": {},
   "source": [
    "# Polymorphism\n",
    "\n",
    "Polymorphism is a core concept in OOP that allows objects of different classes to be treated as objects of a common superclass. It provides a way to perform a single action in different forms. Polymorphism is typically achieved through method overriding and interfaces.\n",
    "\n",
    "### Method Overriding\n",
    " Method overriding allows a child class to provide a specific implementation of a method that is already defined in its parent class."
   ]
  },
  {
   "cell_type": "code",
   "execution_count": null,
   "id": "4646271a",
   "metadata": {},
   "outputs": [
    {
     "name": "stdout",
     "output_type": "stream",
     "text": [
      "Woof Woof!\n",
      "Woof Woof!\n",
      "Meow!\n"
     ]
    }
   ],
   "source": [
    "## Parent or Base class\n",
    "class Animal:\n",
    "    def speak(self):\n",
    "        return \"Sound of the animal\"\n",
    "    \n",
    "# Derived class\n",
    "class Dog(Animal):\n",
    "    # Method override\n",
    "    def speak(self):\n",
    "        return \"Woof Woof!\"\n",
    "    \n",
    "# Derived class\n",
    "class Cat(Animal):\n",
    "    # Method override\n",
    "    def speak(self):\n",
    "        return \"Meow!\"\n",
    "    \n",
    "# Functionss that demonstrate polymorphism\n",
    "# We are passing an object of a class\n",
    "def animal_speak(animal):\n",
    "    print(animal.speak())\n",
    "    \n",
    "# Test    \n",
    "dog = Dog()\n",
    "print(dog.speak())\n",
    "animal_speak(dog)\n",
    "\n",
    "cat = Cat()\n",
    "print(cat.speak())"
   ]
  },
  {
   "cell_type": "code",
   "execution_count": 6,
   "id": "a66fdabb",
   "metadata": {},
   "outputs": [
    {
     "name": "stdout",
     "output_type": "stream",
     "text": [
      "The area is: 20.00 unit^2\n",
      "The area is: 28.27 unit^2\n"
     ]
    }
   ],
   "source": [
    "# Polymorphism with Functions and Methods\n",
    "import math\n",
    "## Parent class\n",
    "class Shape:\n",
    "    def area(self):\n",
    "        return \"The area of the figure.\"\n",
    "    \n",
    "## Derived class 1\n",
    "class Rectangle(Shape):\n",
    "    def __init__(self, width, height):\n",
    "        self.width = width\n",
    "        self.height = height\n",
    "\n",
    "    def area(self):\n",
    "        return self.width * self.height\n",
    "    \n",
    "## Derived class 2\n",
    "class Circle(Shape):\n",
    "    def __init__(self, radius):\n",
    "        self.radius = radius\n",
    "\n",
    "    def area(self):\n",
    "        return math.pi * math.pow(self.radius, 2)\n",
    "    \n",
    "## Functions that demonstrates polymorphism\n",
    "def print_area(shape):\n",
    "    print(f\"The area is: {shape.area():.2f} unit^2\")\n",
    "\n",
    "## Create an object\n",
    "rectangle = Rectangle(4, 5)\n",
    "circle = Circle(3)\n",
    "\n",
    "print_area(rectangle)\n",
    "print_area(circle)"
   ]
  },
  {
   "cell_type": "markdown",
   "id": "2a624d20",
   "metadata": {},
   "source": [
    "### Polymorphism with Abstract Base Classes (other programming language: Interface)\n",
    "\n",
    "Abstract Bases Classes (ABCs) are used to define common methods for a group of related objects. They can enforce that derived classes implement particular methods, promoting consistency across different implementations."
   ]
  },
  {
   "cell_type": "code",
   "execution_count": 8,
   "id": "16eebc62",
   "metadata": {},
   "outputs": [
    {
     "name": "stdout",
     "output_type": "stream",
     "text": [
      "Car engine started.\n",
      "Motorcycle engine started.\n"
     ]
    }
   ],
   "source": [
    "from abc import ABC, abstractmethod\n",
    "\n",
    "## Define an abstract class\n",
    "class Vehicle(ABC):\n",
    "    @abstractmethod\n",
    "    def start_engine(self):\n",
    "        pass\n",
    "\n",
    "## Derived class 1\n",
    "class Car(Vehicle):\n",
    "    def start_engine(self):\n",
    "        return \"Car engine started.\"\n",
    "    \n",
    "## Derived Class 2\n",
    "class Motorcycle(Vehicle):\n",
    "    def start_engine(self):\n",
    "        return \"Motorcycle engine started.\"\n",
    "    \n",
    "## Function that demonstrates polymorphism\n",
    "def start_vehicle(vehicle):\n",
    "    print(vehicle.start_engine())\n",
    "    \n",
    "## Create objects of Car and Motorcycle\n",
    "car  = Car()\n",
    "bike = Motorcycle()\n",
    "\n",
    "start_vehicle(car)\n",
    "start_vehicle(bike)"
   ]
  },
  {
   "cell_type": "markdown",
   "id": "f4e4fab1",
   "metadata": {},
   "source": [
    "# Conclusion\n",
    "Polymorphism is a powerful feature of OOP that allows for flexibility and integration in code design. It enables a single function to handle objects of different classes, each with its own implementation of a method. By understanding and applying polymorphism, you can create more extensible and maintainable object-oriented programs."
   ]
  }
 ],
 "metadata": {
  "kernelspec": {
   "display_name": "Python 3",
   "language": "python",
   "name": "python3"
  },
  "language_info": {
   "codemirror_mode": {
    "name": "ipython",
    "version": 3
   },
   "file_extension": ".py",
   "mimetype": "text/x-python",
   "name": "python",
   "nbconvert_exporter": "python",
   "pygments_lexer": "ipython3",
   "version": "3.13.5"
  }
 },
 "nbformat": 4,
 "nbformat_minor": 5
}
