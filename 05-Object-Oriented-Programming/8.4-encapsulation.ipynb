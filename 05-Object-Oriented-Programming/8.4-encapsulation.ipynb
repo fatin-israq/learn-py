{
 "cells": [
  {
   "cell_type": "markdown",
   "id": "3d090463",
   "metadata": {},
   "source": [
    "# Encapsulation and Abstraction\n",
    "\n",
    "Encapsulation and abstraction are two fundamental principles of OOP that help in designing robust, maintainable, and reusable code. Encapsulation involves bundling data and methods that operate on the data within a single unit, while abstraction involves hiding complex implementation details and exposing only the necessary features.\n",
    "\n",
    "## Encapsulation\n",
    "Encapsulation is the concept of wrapping the data (variables) and methods (functions) together as a single unit. It restricts direct access to some of the objects componenets, which is a means of preventing interference and misuse of the data."
   ]
  },
  {
   "cell_type": "code",
   "execution_count": 1,
   "id": "fa30eb7a",
   "metadata": {},
   "outputs": [
    {
     "name": "stdout",
     "output_type": "stream",
     "text": [
      "Talha\n"
     ]
    }
   ],
   "source": [
    "# Encapsulation with getter and setter methods\n",
    "## public, private and protected variables or Access modifiers\n",
    "\n",
    "class Person:\n",
    "    def __init__(self, name, age):\n",
    "        self.name = name            # public variables\n",
    "        self.age = age              # public variables\n",
    "\n",
    "person = Person('Talha', 23)\n",
    "print(person.name)                  # accessible as 'name' is public"
   ]
  },
  {
   "cell_type": "code",
   "execution_count": 3,
   "id": "11586f51",
   "metadata": {},
   "outputs": [
    {
     "data": {
      "text/plain": [
       "['__class__',\n",
       " '__delattr__',\n",
       " '__dict__',\n",
       " '__dir__',\n",
       " '__doc__',\n",
       " '__eq__',\n",
       " '__firstlineno__',\n",
       " '__format__',\n",
       " '__ge__',\n",
       " '__getattribute__',\n",
       " '__getstate__',\n",
       " '__gt__',\n",
       " '__hash__',\n",
       " '__init__',\n",
       " '__init_subclass__',\n",
       " '__le__',\n",
       " '__lt__',\n",
       " '__module__',\n",
       " '__ne__',\n",
       " '__new__',\n",
       " '__reduce__',\n",
       " '__reduce_ex__',\n",
       " '__repr__',\n",
       " '__setattr__',\n",
       " '__sizeof__',\n",
       " '__static_attributes__',\n",
       " '__str__',\n",
       " '__subclasshook__',\n",
       " '__weakref__',\n",
       " 'age',\n",
       " 'name']"
      ]
     },
     "execution_count": 3,
     "metadata": {},
     "output_type": "execute_result"
    }
   ],
   "source": [
    "dir(person)"
   ]
  },
  {
   "cell_type": "code",
   "execution_count": 1,
   "id": "fab30830",
   "metadata": {},
   "outputs": [
    {
     "ename": "AttributeError",
     "evalue": "'Person' object has no attribute 'name'",
     "output_type": "error",
     "traceback": [
      "\u001b[31m---------------------------------------------------------------------------\u001b[39m",
      "\u001b[31mAttributeError\u001b[39m                            Traceback (most recent call last)",
      "\u001b[36mCell\u001b[39m\u001b[36m \u001b[39m\u001b[32mIn[1]\u001b[39m\u001b[32m, line 11\u001b[39m\n\u001b[32m      8\u001b[39m         \u001b[38;5;28;01mreturn\u001b[39;00m \u001b[38;5;28mself\u001b[39m.__name\n\u001b[32m     10\u001b[39m person = Person(\u001b[33m'\u001b[39m\u001b[33mTalha\u001b[39m\u001b[33m'\u001b[39m, \u001b[32m23\u001b[39m, \u001b[33m\"\u001b[39m\u001b[33mMale\u001b[39m\u001b[33m\"\u001b[39m)\n\u001b[32m---> \u001b[39m\u001b[32m11\u001b[39m \u001b[38;5;28mprint\u001b[39m(\u001b[43mperson\u001b[49m\u001b[43m.\u001b[49m\u001b[43mname\u001b[49m)                    \u001b[38;5;66;03m# Not accessible as the attributes are not public\u001b[39;00m\n",
      "\u001b[31mAttributeError\u001b[39m: 'Person' object has no attribute 'name'"
     ]
    }
   ],
   "source": [
    "class Person:\n",
    "    def __init__(self, name, age, gender):\n",
    "        self.__name = name            # private variables\n",
    "        self.__age = age              # private variables\n",
    "        self.gender = gender\n",
    "\n",
    "    def get_name(self):\n",
    "        return self.__name\n",
    "\n",
    "person = Person('Talha', 23, \"Male\")\n",
    "print(person.name)                    # Not accessible as the attributes are not public"
   ]
  },
  {
   "cell_type": "code",
   "execution_count": 2,
   "id": "68e690a9",
   "metadata": {},
   "outputs": [
    {
     "name": "stdout",
     "output_type": "stream",
     "text": [
      "Talha\n"
     ]
    }
   ],
   "source": [
    "# Instead of directly accessing the private attributes, we use getter and setter methods.\n",
    "print(person.get_name())            # Returns the private attributes"
   ]
  },
  {
   "cell_type": "code",
   "execution_count": 3,
   "id": "de10fe25",
   "metadata": {},
   "outputs": [
    {
     "data": {
      "text/plain": [
       "['_Person__age',\n",
       " '_Person__name',\n",
       " '__class__',\n",
       " '__delattr__',\n",
       " '__dict__',\n",
       " '__dir__',\n",
       " '__doc__',\n",
       " '__eq__',\n",
       " '__firstlineno__',\n",
       " '__format__',\n",
       " '__ge__',\n",
       " '__getattribute__',\n",
       " '__getstate__',\n",
       " '__gt__',\n",
       " '__hash__',\n",
       " '__init__',\n",
       " '__init_subclass__',\n",
       " '__le__',\n",
       " '__lt__',\n",
       " '__module__',\n",
       " '__ne__',\n",
       " '__new__',\n",
       " '__reduce__',\n",
       " '__reduce_ex__',\n",
       " '__repr__',\n",
       " '__setattr__',\n",
       " '__sizeof__',\n",
       " '__static_attributes__',\n",
       " '__str__',\n",
       " '__subclasshook__',\n",
       " '__weakref__',\n",
       " 'gender',\n",
       " 'get_name']"
      ]
     },
     "execution_count": 3,
     "metadata": {},
     "output_type": "execute_result"
    }
   ],
   "source": [
    "dir(person)         # we can see that gender is available in this list (as this is public, but private attributes are unavailable.)"
   ]
  },
  {
   "cell_type": "code",
   "execution_count": null,
   "id": "a549f42d",
   "metadata": {},
   "outputs": [],
   "source": [
    "## Private variables can not be accessed from outside the class."
   ]
  },
  {
   "cell_type": "markdown",
   "id": "814a56de",
   "metadata": {},
   "source": [
    "### Protected Variables (Access Modifiers)\n",
    "\n",
    "Protected variables can not be used outside the name, but can be accessed from a derived class."
   ]
  },
  {
   "cell_type": "code",
   "execution_count": 5,
   "id": "132b9436",
   "metadata": {},
   "outputs": [
    {
     "name": "stdout",
     "output_type": "stream",
     "text": [
      "Talha\n"
     ]
    }
   ],
   "source": [
    "class Person:\n",
    "    def __init__(self, name, age):\n",
    "        self._name = name                 # Protected Variables\n",
    "        self._age = age                   # Protected Variables\n",
    "\n",
    "class Employee(Person):\n",
    "    def __init__(self, name, age, id_num, gender):\n",
    "        super().__init__(name, age)\n",
    "        self._id_num = id_num                    # Protected Variables\n",
    "        self.gender = gender                     # Public\n",
    "\n",
    "employee = Employee(\"Talha\", 39, 249, \"Male\")\n",
    "print(employee._name)"
   ]
  },
  {
   "cell_type": "markdown",
   "id": "7c2dee9d",
   "metadata": {},
   "source": [
    "### Getter and Setter"
   ]
  },
  {
   "cell_type": "code",
   "execution_count": 7,
   "id": "84c42591",
   "metadata": {},
   "outputs": [
    {
     "name": "stdout",
     "output_type": "stream",
     "text": [
      "Fatin\n",
      "33\n",
      "Updated age: 20\n",
      "Age cannot be negative.\n"
     ]
    }
   ],
   "source": [
    "class Person:\n",
    "    def __init__(self, name, age):\n",
    "        self.__name = name          # Private variable\n",
    "        self.__age = age            # Private variable\n",
    "\n",
    "    # getter method for name\n",
    "    def get_name(self):\n",
    "        return self.__name\n",
    "\n",
    "    # setter method for name\n",
    "    def set_name(self, name):\n",
    "        self.__name = name\n",
    "\n",
    "    # getter method for age\n",
    "    def get_age(self):\n",
    "        return self.__age\n",
    "\n",
    "    # setter method for age\n",
    "    def set_age(self, age):\n",
    "        if age > 0:\n",
    "            self.__age = age\n",
    "        else:\n",
    "            print(\"Age cannot be negative.\")\n",
    "\n",
    "\n",
    "# Creating an object\n",
    "person = Person(\"Fatin\", 33)\n",
    "\n",
    "## Access and modify privates variables using getter and setter\n",
    "print(person.get_name())\n",
    "print(person.get_age())\n",
    "\n",
    "person.set_age(20)\n",
    "print(f\"Updated age: {person.get_age()}\")\n",
    "\n",
    "person.set_age(-5)"
   ]
  }
 ],
 "metadata": {
  "kernelspec": {
   "display_name": "Python 3",
   "language": "python",
   "name": "python3"
  },
  "language_info": {
   "codemirror_mode": {
    "name": "ipython",
    "version": 3
   },
   "file_extension": ".py",
   "mimetype": "text/x-python",
   "name": "python",
   "nbconvert_exporter": "python",
   "pygments_lexer": "ipython3",
   "version": "3.13.5"
  }
 },
 "nbformat": 4,
 "nbformat_minor": 5
}
