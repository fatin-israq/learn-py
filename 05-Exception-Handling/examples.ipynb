{
 "cells": [
  {
   "cell_type": "markdown",
   "id": "c5841e04",
   "metadata": {},
   "source": [
    "# Module: Exception Handling Assignments\n",
    "## Lesson: Exception Handling with try, except, and finally\n",
    "### Assignment 1: Handling Division by Zero\n",
    "\n",
    "Write a function that takes two integers as input and returns their division. Use try, except, and finally blocks to handle division by zero and print an appropriate message."
   ]
  },
  {
   "cell_type": "code",
   "execution_count": 11,
   "id": "c73ac466",
   "metadata": {},
   "outputs": [
    {
     "name": "stdout",
     "output_type": "stream",
     "text": [
      "Can't divide by zero (0).\n"
     ]
    }
   ],
   "source": [
    "try:\n",
    "    i = 11 / 0\n",
    "except ZeroDivisionError as ex:\n",
    "    print(\"Can't divide by zero (0).\")\n",
    "except Exception as ex:\n",
    "    print(ex)\n",
    "else:\n",
    "    print(f\"Result: {i}\")"
   ]
  },
  {
   "cell_type": "markdown",
   "id": "bc41db8b",
   "metadata": {},
   "source": [
    "### Assignment 2: File Reading with Exception Handling\n",
    "\n",
    "Write a function that reads the contents of a file named `data.txt`. Use try, except, and finally blocks to handle file not found errors and ensure the file is properly closed."
   ]
  },
  {
   "cell_type": "code",
   "execution_count": 12,
   "id": "eb46024d",
   "metadata": {},
   "outputs": [
    {
     "name": "stdout",
     "output_type": "stream",
     "text": [
      "File not found\n"
     ]
    }
   ],
   "source": [
    "try:\n",
    "    with open(\"data.txt\") as file:\n",
    "        content = file.read()\n",
    "except FileNotFoundError as file:\n",
    "    print(\"File not found\")\n",
    "else:\n",
    "    print(content)"
   ]
  },
  {
   "cell_type": "markdown",
   "id": "d9195733",
   "metadata": {},
   "source": [
    "### Assignment 3: Handling Multiple Exceptions\n",
    "\n",
    "Write a function that takes a list of integers and returns their sum. Use try, except, and finally blocks to handle TypeError if a non-integer value is encountered and print an appropriate message."
   ]
  },
  {
   "cell_type": "code",
   "execution_count": 14,
   "id": "1cf01549",
   "metadata": {},
   "outputs": [
    {
     "name": "stdout",
     "output_type": "stream",
     "text": [
      "Type Error: Only Numbers are allowed\n",
      "None\n"
     ]
    }
   ],
   "source": [
    "def summation(numbers):\n",
    "    try:\n",
    "        print(sum(numbers))\n",
    "    except TypeError:\n",
    "        print(\"Type Error: Only Numbers are allowed\")\n",
    "    except Exception as ex:\n",
    "        print(ex)\n",
    "    \n",
    "numbers = [1, 2, 3, 4, 'a']\n",
    "print(summation(numbers))"
   ]
  },
  {
   "cell_type": "markdown",
   "id": "15dfb935",
   "metadata": {},
   "source": [
    "### Assignment 4: Exception Handling in User Input\n",
    "\n",
    "Write a function that prompts the user to enter an integer. Use try, except, and finally blocks to handle ValueError if the user enters a non-integer value and print an appropriate message."
   ]
  },
  {
   "cell_type": "code",
   "execution_count": null,
   "id": "4e571f18",
   "metadata": {},
   "outputs": [
    {
     "name": "stdout",
     "output_type": "stream",
     "text": [
      "You must input an integer\n"
     ]
    }
   ],
   "source": [
    "def take_input():\n",
    "    try:\n",
    "        inputs = int(input())\n",
    "    except ValueError:\n",
    "        return \"You must input an integer\"\n",
    "    except Exception as ex:\n",
    "        return ex\n",
    "    else:\n",
    "        return inputs\n",
    "    \n",
    "var = take_input()\n",
    "print(var)\n",
    "    "
   ]
  },
  {
   "cell_type": "markdown",
   "id": "a240ce62",
   "metadata": {},
   "source": [
    "### Assignment 5: Exception Handling in Dictionary Access\n",
    "\n",
    "Write a function that takes a dictionary and a key as input and returns the value associated with the key. Use try, except, and finally blocks to handle KeyError if the key is not found in the dictionary and print an appropriate message."
   ]
  },
  {
   "cell_type": "code",
   "execution_count": 24,
   "id": "eb17bc82",
   "metadata": {},
   "outputs": [
    {
     "name": "stdout",
     "output_type": "stream",
     "text": [
      "0112230249\n",
      "Could not find address.\n"
     ]
    }
   ],
   "source": [
    "def find_value(dicts, key):\n",
    "    try:\n",
    "        return dicts[key]\n",
    "    except KeyError:\n",
    "        return f\"Could not find {key}.\"\n",
    "\n",
    "students = {'name': 'Talha', 'id': '0112230249', 'dept': 'CSE'}\n",
    "\n",
    "print(find_value(students, 'id'))\n",
    "print(find_value(students, 'address'))"
   ]
  },
  {
   "cell_type": "markdown",
   "id": "e9d78ee2",
   "metadata": {},
   "source": [
    "### Assignment 6: Nested Exception Handling\n",
    "\n",
    "Write a function that performs nested exception handling. It should first attempt to convert a string to an integer, and then attempt to divide by that integer. Use nested try, except, and finally blocks to handle ValueError and ZeroDivisionError and print appropriate messages."
   ]
  },
  {
   "cell_type": "code",
   "execution_count": 29,
   "id": "59cdc9d5",
   "metadata": {},
   "outputs": [
    {
     "name": "stdout",
     "output_type": "stream",
     "text": [
      "Can't divide with zero\n"
     ]
    }
   ],
   "source": [
    "def division(x, y):\n",
    "    try:\n",
    "        x = int(x)\n",
    "        y = int(y)\n",
    "        result = x / y\n",
    "    except ValueError:\n",
    "        return \"You must input an integer\"\n",
    "    except ZeroDivisionError:\n",
    "        return \"Can't divide with zero\"\n",
    "    else:\n",
    "        return result\n",
    "    \n",
    "x = input(\"X: \")\n",
    "y = input(\"Y: \")\n",
    "\n",
    "print(division(x, y))"
   ]
  },
  {
   "cell_type": "markdown",
   "id": "7c8e64a4",
   "metadata": {},
   "source": [
    "### Assignment 8: Exception Handling in Network Operations\n",
    "\n",
    "Write a function that attempts to open a URL and read its contents. Use try, except, and finally blocks to handle network-related errors and print an appropriate message."
   ]
  },
  {
   "cell_type": "code",
   "execution_count": null,
   "id": "9c73438e",
   "metadata": {},
   "outputs": [],
   "source": [
    "import requests\n",
    "\n",
    "def read_url(url):\n",
    "    try:\n",
    "        response = requests.get(url)\n",
    "        response.raise_for_status()\n",
    "        return response.text\n",
    "    except requests.RequestException as e:\n",
    "        print(f\"Network error: {e}\")\n",
    "        return None\n",
    "    finally:\n",
    "        print(\"Execution complete.\")\n",
    "\n",
    "print(read_url('https://israq.tech/'))"
   ]
  },
  {
   "cell_type": "markdown",
   "id": "e1997ba0",
   "metadata": {},
   "source": [
    "### Assignment 9: Exception Handling in JSON Parsing\n",
    "\n",
    "Write a function that attempts to parse a JSON string. Use try, except, and finally blocks to handle JSONDecodeError if the string is not a valid JSON and print an appropriate message."
   ]
  },
  {
   "cell_type": "code",
   "execution_count": 6,
   "id": "81b97a59",
   "metadata": {},
   "outputs": [
    {
     "name": "stdout",
     "output_type": "stream",
     "text": [
      "Execution Complete.\n",
      "{'name': 'John', 'age': 30}\n",
      "Execution Complete.\n",
      "JSON error: Expecting value: line 1 column 1 (char 0)\n"
     ]
    }
   ],
   "source": [
    "import json\n",
    "\n",
    "def parse_json(json_str):\n",
    "    try:\n",
    "        data = json.loads(json_str)\n",
    "        return data\n",
    "    except json.JSONDecodeError as e:\n",
    "        return (f\"JSON error: {e}\")\n",
    "    finally:\n",
    "        print(\"Execution Complete.\")\n",
    "\n",
    "print(parse_json('{\"name\": \"John\", \"age\": 30}'))  # {'name': 'John', 'age': 30}\n",
    "print(parse_json('Invalid JSON'))  # None"
   ]
  },
  {
   "cell_type": "markdown",
   "id": "114d5df3",
   "metadata": {},
   "source": [
    "### Assignment 11: Exception Handling in Function Calls\n",
    "\n",
    "Write a function that calls another function which may raise an exception. Use try, except, and finally blocks to handle the exception and print an appropriate message."
   ]
  },
  {
   "cell_type": "code",
   "execution_count": 7,
   "id": "b94a1b6c",
   "metadata": {},
   "outputs": [
    {
     "name": "stdout",
     "output_type": "stream",
     "text": [
      "Error: An error occurred in risky_function.\n",
      "Execution complete.\n"
     ]
    }
   ],
   "source": [
    "def risky_function():\n",
    "    raise ValueError(\"An error occurred in risky_function.\")\n",
    "\n",
    "def safe_function():\n",
    "    try:\n",
    "        risky_function()\n",
    "    except ValueError as e:\n",
    "        print(f\"Error: {e}\")\n",
    "    finally:\n",
    "        print(\"Execution complete.\")\n",
    "\n",
    "# Test\n",
    "safe_function()  # Error: An error occurred in risky_function."
   ]
  },
  {
   "cell_type": "markdown",
   "id": "f36307ef",
   "metadata": {},
   "source": [
    "### Assignment 15: Exception Handling in File Writing\n",
    "\n",
    "Write a function that attempts to write a list of strings to a file. Use try, except, and finally blocks to handle IOError and ensure the file is properly closed."
   ]
  },
  {
   "cell_type": "code",
   "execution_count": 12,
   "id": "79fe297a",
   "metadata": {},
   "outputs": [
    {
     "name": "stdout",
     "output_type": "stream",
     "text": [
      "File created succesfully.\n",
      "Execution complete.\n"
     ]
    }
   ],
   "source": [
    "def write_to_file(contents, filename):\n",
    "    try:\n",
    "        with open(filename, 'w') as file:\n",
    "            for content in contents:\n",
    "                file.write(content + \"\\n\")\n",
    "    except IOError as e:\n",
    "        print(f\"IOError occurred: {e}\")\n",
    "    else:\n",
    "        print(\"File created succesfully.\")\n",
    "    finally:\n",
    "        print(\"Execution complete.\")\n",
    "\n",
    "write_to_file(['Hello', 'World'], 'output.txt')"
   ]
  }
 ],
 "metadata": {
  "kernelspec": {
   "display_name": "Python 3",
   "language": "python",
   "name": "python3"
  },
  "language_info": {
   "codemirror_mode": {
    "name": "ipython",
    "version": 3
   },
   "file_extension": ".py",
   "mimetype": "text/x-python",
   "name": "python",
   "nbconvert_exporter": "python",
   "pygments_lexer": "ipython3",
   "version": "3.13.5"
  }
 },
 "nbformat": 4,
 "nbformat_minor": 5
}
