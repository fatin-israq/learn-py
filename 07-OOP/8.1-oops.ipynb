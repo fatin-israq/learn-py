{
 "cells": [
  {
   "cell_type": "markdown",
   "id": "84b6b073",
   "metadata": {},
   "source": [
    "# Classes and Objects\n",
    "\n",
    "Object-Oriented Programming (OOP) is a programming paradigm that uses \"objects\" to design applications and computer programs. OOP allows for modeling real-world scenarios using classes and objects."
   ]
  },
  {
   "cell_type": "code",
   "execution_count": 1,
   "id": "80a766ea",
   "metadata": {},
   "outputs": [
    {
     "name": "stdout",
     "output_type": "stream",
     "text": [
      "<__main__.Car object at 0x1057f4590>\n",
      "<class '__main__.Car'>\n"
     ]
    }
   ],
   "source": [
    "# Class is a blueprint for creating objects. \n",
    "class Car:\n",
    "    pass\n",
    "\n",
    "audi = Car()\n",
    "bmw = Car()\n",
    "\n",
    "print(audi)\n",
    "print(type(audi))"
   ]
  },
  {
   "cell_type": "code",
   "execution_count": null,
   "id": "1a491227",
   "metadata": {},
   "outputs": [],
   "source": [
    "## Instance Variable and Methods\n",
    "audi.windows = 4\n",
    "print(audi.windows)"
   ]
  },
  {
   "cell_type": "code",
   "execution_count": 2,
   "id": "56fff117",
   "metadata": {},
   "outputs": [
    {
     "ename": "AttributeError",
     "evalue": "'Car' object has no attribute 'windows'",
     "output_type": "error",
     "traceback": [
      "\u001b[31m---------------------------------------------------------------------------\u001b[39m",
      "\u001b[31mAttributeError\u001b[39m                            Traceback (most recent call last)",
      "\u001b[36mCell\u001b[39m\u001b[36m \u001b[39m\u001b[32mIn[2]\u001b[39m\u001b[32m, line 3\u001b[39m\n\u001b[32m      1\u001b[39m tata = Car()\n\u001b[32m      2\u001b[39m tata.doors = \u001b[32m4\u001b[39m\n\u001b[32m----> \u001b[39m\u001b[32m3\u001b[39m \u001b[38;5;28mprint\u001b[39m(\u001b[43mtata\u001b[49m\u001b[43m.\u001b[49m\u001b[43mwindows\u001b[49m)\n",
      "\u001b[31mAttributeError\u001b[39m: 'Car' object has no attribute 'windows'"
     ]
    }
   ],
   "source": [
    "tata = Car()\n",
    "tata.doors = 4\n",
    "print(tata.windows)"
   ]
  },
  {
   "cell_type": "code",
   "execution_count": 3,
   "id": "8d15792b",
   "metadata": {},
   "outputs": [
    {
     "data": {
      "text/plain": [
       "['__class__',\n",
       " '__delattr__',\n",
       " '__dict__',\n",
       " '__dir__',\n",
       " '__doc__',\n",
       " '__eq__',\n",
       " '__firstlineno__',\n",
       " '__format__',\n",
       " '__ge__',\n",
       " '__getattribute__',\n",
       " '__getstate__',\n",
       " '__gt__',\n",
       " '__hash__',\n",
       " '__init__',\n",
       " '__init_subclass__',\n",
       " '__le__',\n",
       " '__lt__',\n",
       " '__module__',\n",
       " '__ne__',\n",
       " '__new__',\n",
       " '__reduce__',\n",
       " '__reduce_ex__',\n",
       " '__repr__',\n",
       " '__setattr__',\n",
       " '__sizeof__',\n",
       " '__static_attributes__',\n",
       " '__str__',\n",
       " '__subclasshook__',\n",
       " '__weakref__',\n",
       " 'doors']"
      ]
     },
     "execution_count": 3,
     "metadata": {},
     "output_type": "execute_result"
    }
   ],
   "source": [
    "# Directory of Tata\n",
    "dir(tata)"
   ]
  },
  {
   "cell_type": "markdown",
   "id": "79456a58",
   "metadata": {},
   "source": [
    "## `__init__` or Constructor"
   ]
  },
  {
   "cell_type": "code",
   "execution_count": 4,
   "id": "97fa9e59",
   "metadata": {},
   "outputs": [
    {
     "name": "stdout",
     "output_type": "stream",
     "text": [
      "<__main__.Dog object at 0x1057f6510>\n",
      "buddy\n",
      "3\n"
     ]
    }
   ],
   "source": [
    "# Instance Variables and Methods\n",
    "class Dog:\n",
    "    ## Constructor\n",
    "    def __init__(self, name, age):      # name and age is the parameters we can initialize Dog class with\n",
    "        self.name = name                # self is keyword, works like the keyword 'this' from Java\n",
    "        self.age = age\n",
    "\n",
    "# create objects\n",
    "# dog1 = Dog() # We can't create like this, we have to give 2 parameters (name, age)\n",
    "dog1 = Dog(\"buddy\", 3)\n",
    "print(dog1)\n",
    "print(dog1.name)\n",
    "print(dog1.age)"
   ]
  },
  {
   "cell_type": "code",
   "execution_count": 5,
   "id": "6169026f",
   "metadata": {},
   "outputs": [
    {
     "name": "stdout",
     "output_type": "stream",
     "text": [
      "Lucy says Woof!\n"
     ]
    }
   ],
   "source": [
    "## Define a class with Instance Method\n",
    "class Dog:\n",
    "    def __init__(self, name, age):\n",
    "        self.name = name\n",
    "        self.age = age\n",
    "    \n",
    "    def bark(self):\n",
    "        print(f\"{self.name} says Woof!\")\n",
    "\n",
    "dog1 = Dog(\"Lucy\", 5)\n",
    "dog1.bark()"
   ]
  },
  {
   "cell_type": "markdown",
   "id": "8e21d158",
   "metadata": {},
   "source": [
    "## Modeling a Bank Account Example"
   ]
  },
  {
   "cell_type": "code",
   "execution_count": 10,
   "id": "2e708e92",
   "metadata": {},
   "outputs": [
    {
     "name": "stdout",
     "output_type": "stream",
     "text": [
      "Account Balance: 5000 BDT.\n",
      "20000 is deposited.\n",
      "New balance: 25000 BDT.\n",
      "3500 is withdrawn.\n",
      "New balance: 21500 BDT.\n"
     ]
    }
   ],
   "source": [
    "## Define a class for bank account\n",
    "class BankAccount:\n",
    "    def __init__(self, owner, balance=0):\n",
    "        self.owner = owner\n",
    "        self.balance = balance\n",
    "    \n",
    "    def deposite(self, amount):\n",
    "        self.balance += amount\n",
    "        print(f\"{amount} is deposited.\")\n",
    "        print(f\"New balance: {self.balance} BDT.\")\n",
    "\n",
    "    def withdraw(self, amount):\n",
    "        if amount > self.balance:\n",
    "            print(f\"Insufficient funds\")\n",
    "        else:\n",
    "            self.balance -= amount\n",
    "            print(f\"{amount} is withdrawn.\")\n",
    "            print(f\"New balance: {self.balance} BDT.\")\n",
    "    \n",
    "    def get_balance(self):\n",
    "        return self.balance\n",
    "\n",
    "## Create an object\n",
    "account = BankAccount(\"Talha\", 5000)\n",
    "print(f\"Account Balance: {account.get_balance()} BDT.\")\n",
    "\n",
    "# Calling instance methods\n",
    "account.deposite(20000)\n",
    "account.withdraw(3500)"
   ]
  }
 ],
 "metadata": {
  "kernelspec": {
   "display_name": "Python 3",
   "language": "python",
   "name": "python3"
  },
  "language_info": {
   "codemirror_mode": {
    "name": "ipython",
    "version": 3
   },
   "file_extension": ".py",
   "mimetype": "text/x-python",
   "name": "python",
   "nbconvert_exporter": "python",
   "pygments_lexer": "ipython3",
   "version": "3.13.5"
  }
 },
 "nbformat": 4,
 "nbformat_minor": 5
}
