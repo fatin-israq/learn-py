{
 "cells": [
  {
   "cell_type": "markdown",
   "id": "05b2bc01",
   "metadata": {},
   "source": [
    "# Inheritance in Python\n",
    "\n",
    "Inheritance is a fundamental concept in OOP that allows a class to inherit attributes and methods from another class. This notebook covers single inheritance and multiple inheritance, demonstrating how to create and use them in Python."
   ]
  },
  {
   "cell_type": "code",
   "execution_count": null,
   "id": "c0db8846",
   "metadata": {},
   "outputs": [],
   "source": [
    "## Single Inheritance\n",
    "\n",
    "# Parent Class\n",
    "class Car:\n",
    "    def __init__(self, windows, doors, enginetype):\n",
    "        self.windows = windows\n",
    "        self.doors = doors\n",
    "        self.enginetype = enginetype\n",
    "\n",
    "    def drive(self):\n",
    "        print(f\"The person will drive the {self.enginetype} car.\")"
   ]
  },
  {
   "cell_type": "code",
   "execution_count": null,
   "id": "c3e3e865",
   "metadata": {},
   "outputs": [
    {
     "name": "stdout",
     "output_type": "stream",
     "text": [
      "The person will drive the petrol car.\n"
     ]
    }
   ],
   "source": [
    "car1 = Car(4, 2, \"petrol\")\n",
    "\n",
    "car1.drive()"
   ]
  },
  {
   "cell_type": "code",
   "execution_count": 3,
   "id": "d0b9cdf4",
   "metadata": {},
   "outputs": [],
   "source": [
    "# Inheriting from Car class. \n",
    "# We have to put the Inheritted class inside Parenthesis.\n",
    "class Tesla(Car):       # Tesla inheritted from Car class\n",
    "    def __init__(self, windows, doors, enginetype, is_selfDriving):\n",
    "        # Call the parent class's constructor with windows, doors, and enginetype\n",
    "        super().__init__(windows, doors, enginetype)\n",
    "        self.is_selfDriving = is_selfDriving\n",
    "\n",
    "    # Additional method compared to parent class blueprint\n",
    "    def selfDriving(self):\n",
    "        print(f\"Tesla supports self driving: {self.is_selfDriving}.\")"
   ]
  },
  {
   "cell_type": "code",
   "execution_count": 7,
   "id": "684c158c",
   "metadata": {},
   "outputs": [
    {
     "name": "stdout",
     "output_type": "stream",
     "text": [
      "Tesla supports self driving: True.\n",
      "The person will drive the electric car.\n"
     ]
    }
   ],
   "source": [
    "# Creating child class object\n",
    "tesla1 = Tesla(4, 5, \"electric\", True)\n",
    "# calling own method\n",
    "tesla1.selfDriving()\n",
    "# calling parent method\n",
    "tesla1.drive()"
   ]
  },
  {
   "cell_type": "code",
   "execution_count": 10,
   "id": "438cd210",
   "metadata": {},
   "outputs": [
    {
     "name": "stdout",
     "output_type": "stream",
     "text": [
      "Lucy says Woof\n",
      "Owner: Talha\n"
     ]
    }
   ],
   "source": [
    "## Multiple Inheritance\n",
    "# When a class inherits from more than one base class.\n",
    "\n",
    "# Base class 1\n",
    "class Animal:\n",
    "    def __init__(self, name):\n",
    "        self.name = name\n",
    "\n",
    "    def speak(self):\n",
    "        print(\"Subclasses must implement this method.\")\n",
    "\n",
    "# Base class 2\n",
    "class Pet:\n",
    "    def __init__(self, owner):\n",
    "        self.owner = owner\n",
    "\n",
    "# Derived class\n",
    "class Dog(Animal, Pet):\n",
    "    def __init__(self, name, owner):\n",
    "        Animal.__init__(self, name)\n",
    "        Pet.__init__(self, owner)\n",
    "\n",
    "    def speak(self):\n",
    "        print(f\"{self.name} says Woof\")\n",
    "\n",
    "\n",
    "# Create an object of Dog\n",
    "dog = Dog(\"Lucy\", \"Talha\")\n",
    "\n",
    "# own class methods\n",
    "dog.speak()\n",
    "print(f\"Owner: {dog.owner}\")"
   ]
  }
 ],
 "metadata": {
  "kernelspec": {
   "display_name": "Python 3",
   "language": "python",
   "name": "python3"
  },
  "language_info": {
   "codemirror_mode": {
    "name": "ipython",
    "version": 3
   },
   "file_extension": ".py",
   "mimetype": "text/x-python",
   "name": "python",
   "nbconvert_exporter": "python",
   "pygments_lexer": "ipython3",
   "version": "3.13.5"
  }
 },
 "nbformat": 4,
 "nbformat_minor": 5
}
