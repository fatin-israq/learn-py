{
 "cells": [
  {
   "cell_type": "markdown",
   "id": "95eba1d9",
   "metadata": {},
   "source": [
    "Classes and Objects Assignments\n",
    "## Lesson: Creating and Working with Classes and Objects\n",
    "### Assignment 1: Basic Class and Object Creation\n",
    "\n",
    "Create a class named `Car` with attributes `make`, `model`, and `year`. Create an object of the class and print its attributes.\n"
   ]
  },
  {
   "cell_type": "code",
   "execution_count": 2,
   "id": "277e9773",
   "metadata": {},
   "outputs": [
    {
     "name": "stdout",
     "output_type": "stream",
     "text": [
      "Mercedes has made S-Class in 2021\n"
     ]
    }
   ],
   "source": [
    "class Car:\n",
    "    def __init__(self, make, model, year):\n",
    "        self.make = make\n",
    "        self.model = model\n",
    "        self.year = year\n",
    "\n",
    "car1 = Car(\"Mercedes\", \"S-Class\", 2021)\n",
    "print(f\"{car1.make} has made {car1.model} in {car1.year}\")"
   ]
  },
  {
   "cell_type": "markdown",
   "id": "6018d6e1",
   "metadata": {},
   "source": [
    "### Assignment 2: Methods in Class\n",
    "\n",
    "Add a method named `start_engine` to the `Car` class that prints a message when the engine starts. Create an object of the class and call the method."
   ]
  },
  {
   "cell_type": "code",
   "execution_count": null,
   "id": "e5bf7b1d",
   "metadata": {},
   "outputs": [
    {
     "name": "stdout",
     "output_type": "stream",
     "text": [
      "Supra MK5's engine has been started\n"
     ]
    }
   ],
   "source": [
    "class Car:\n",
    "    def __init__(self, make, model, year):\n",
    "        self.make = make\n",
    "        self.model = model\n",
    "        self.year = year\n",
    "\n",
    "    def start_engine(self):\n",
    "        print(f\"{self.model}'s engine has been started\")\n",
    "    \n",
    "# Test\n",
    "car1 = Car(\"Toyota\", \"Supra MK5\", 2022)\n",
    "car1.start_engine()"
   ]
  },
  {
   "cell_type": "markdown",
   "id": "c680b64b",
   "metadata": {},
   "source": [
    "### Assignment 3: Class with Constructor\n",
    "\n",
    "Create a class named `Student` with attributes `name` and `age`. Use a constructor to initialize these attributes. Create an object of the class and print its attributes."
   ]
  },
  {
   "cell_type": "code",
   "execution_count": null,
   "id": "5181fc00",
   "metadata": {},
   "outputs": [
    {
     "name": "stdout",
     "output_type": "stream",
     "text": [
      "Talha 23\n"
     ]
    }
   ],
   "source": [
    "class Student:\n",
    "    def __init__(self, name, age):\n",
    "        self.name = name\n",
    "        self.age = age\n",
    "\n",
    "# Test\n",
    "student1 = Student('Talha', 23)\n",
    "print(student1.name + \" \" + str(student1.age))"
   ]
  },
  {
   "cell_type": "markdown",
   "id": "deabd80f",
   "metadata": {},
   "source": [
    "### Assignment 4: Class with Private Attributes\n",
    "\n",
    "Create a class named `BankAccount` with private attributes `account_number` and `balance`. Add methods to deposit and withdraw money, and to check the balance. Create an object of the class and perform some operations."
   ]
  },
  {
   "cell_type": "code",
   "execution_count": 8,
   "id": "c585f668",
   "metadata": {},
   "outputs": [
    {
     "name": "stdout",
     "output_type": "stream",
     "text": [
      "500 has been successfully deposited.\n",
      "New account balance: 1500.\n",
      "200 has been successfully withdrawn.\n",
      "New account balance: 1300.\n",
      "Account balance: 1300.\n",
      "Insufficient Fund.\n"
     ]
    }
   ],
   "source": [
    "class BankAccount:\n",
    "    def __init__(self, account_number, balance):\n",
    "        self.__account_number = account_number\n",
    "        self.__balance = balance\n",
    "    \n",
    "    def deposit(self, amount):\n",
    "        self.__balance += amount\n",
    "        print(f\"{amount} has been successfully deposited.\")\n",
    "        print(f\"New account balance: {self.__balance}.\")\n",
    "    \n",
    "    def withdraw(self, amount):\n",
    "        if (amount > self.__balance):\n",
    "            print(f\"Insufficient Fund.\")\n",
    "        else:\n",
    "            self.__balance -= amount\n",
    "            print(f\"{amount} has been successfully withdrawn.\")\n",
    "            print(f\"New account balance: {self.__balance}.\")\n",
    "\n",
    "    def check_balance(self):\n",
    "        print(f\"Account balance: {self.__balance}.\")\n",
    "\n",
    "# Test\n",
    "account = BankAccount('12345678', 1000)\n",
    "account.deposit(500)\n",
    "account.withdraw(200)\n",
    "account.check_balance()  # 1300\n",
    "account.withdraw(2000)  # Insufficient balance!"
   ]
  },
  {
   "cell_type": "markdown",
   "id": "d4bd64d5",
   "metadata": {},
   "source": [
    "### Assignment 5: Class Inheritance\n",
    "\n",
    "Create a base class named `Person` with attributes `name` and `age`. Create a derived class named `Employee` that inherits from `Person` and adds an attribute `employee_id`. Create an object of the derived class and print its attributes."
   ]
  },
  {
   "cell_type": "code",
   "execution_count": 11,
   "id": "233f21b5",
   "metadata": {},
   "outputs": [
    {
     "name": "stdout",
     "output_type": "stream",
     "text": [
      "11223973's name: Sadekin.\n",
      "11223973's age: 30.\n"
     ]
    }
   ],
   "source": [
    "class Person:\n",
    "    def __init__(self, name, age):\n",
    "        self.name = name\n",
    "        self.age = age\n",
    "\n",
    "class Employee(Person):\n",
    "    def __init__(self, name, age, employee_id):\n",
    "        super().__init__(name, age)\n",
    "        self.employee_id = employee_id\n",
    "\n",
    "# create object of employee class\n",
    "employee1 = Employee('Sadekin', 30, 11223973)\n",
    "print(f\"{employee1.employee_id}'s name: {employee1.name}.\")\n",
    "print(f\"{employee1.employee_id}'s age: {employee1.age}.\")"
   ]
  }
 ],
 "metadata": {
  "kernelspec": {
   "display_name": "Python 3",
   "language": "python",
   "name": "python3"
  },
  "language_info": {
   "codemirror_mode": {
    "name": "ipython",
    "version": 3
   },
   "file_extension": ".py",
   "mimetype": "text/x-python",
   "name": "python",
   "nbconvert_exporter": "python",
   "pygments_lexer": "ipython3",
   "version": "3.13.5"
  }
 },
 "nbformat": 4,
 "nbformat_minor": 5
}
