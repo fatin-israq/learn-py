{
 "cells": [
  {
   "cell_type": "markdown",
   "id": "28ce835e",
   "metadata": {},
   "source": [
    "## Function\n",
    "\n",
    "A function is a block of code that performs a specific task. Functions help in organizing codes, reusing codes, and improving readablility. \n",
    "\n",
    "#### Syntax"
   ]
  },
  {
   "cell_type": "code",
   "execution_count": null,
   "id": "42805692",
   "metadata": {},
   "outputs": [],
   "source": [
    "def function_name(parameters):\n",
    "    \"\"\"DocString\"\"\"\n",
    "    # function body\n",
    "    return expression"
   ]
  },
  {
   "cell_type": "code",
   "execution_count": null,
   "id": "ca25ff2e",
   "metadata": {},
   "outputs": [
    {
     "name": "stdout",
     "output_type": "stream",
     "text": [
      "12 is even\n",
      "13 is odd\n"
     ]
    }
   ],
   "source": [
    "# Why functions?\n",
    "## Because we can reuse the code in the whole codebase.\n",
    "\n",
    "def check_even_odd(number):\n",
    "    \"\"\"This function finds even or odd\"\"\"\n",
    "    if number % 2 == 0:\n",
    "        print(f\"{number} is even\")\n",
    "    else:\n",
    "        print(f\"{number} is odd\")\n",
    "    return\n",
    "\n",
    "check_even_odd(12)\n",
    "check_even_odd(13)"
   ]
  },
  {
   "cell_type": "code",
   "execution_count": 3,
   "id": "1c690a27",
   "metadata": {},
   "outputs": [
    {
     "name": "stdout",
     "output_type": "stream",
     "text": [
      "6\n"
     ]
    }
   ],
   "source": [
    "## Function with multiple parameters\n",
    "\n",
    "def add(a, b):\n",
    "    return a+b\n",
    "\n",
    "# Call function\n",
    "result = add(2, 4)\n",
    "print(result)"
   ]
  },
  {
   "cell_type": "code",
   "execution_count": 7,
   "id": "e1506c07",
   "metadata": {},
   "outputs": [
    {
     "name": "stdout",
     "output_type": "stream",
     "text": [
      "Hello, Talha. Welcome to my Github profile\n",
      "Hello, Guest. Welcome to my Github profile\n"
     ]
    }
   ],
   "source": [
    "## Default parameters\n",
    "\n",
    "def greet(name = \"Guest\"):\n",
    "    print(f\"Hello, {name}. Welcome to my Github profile\")\n",
    "\n",
    "greet(\"Talha\")\n",
    "greet()"
   ]
  },
  {
   "cell_type": "markdown",
   "id": "6764b4da",
   "metadata": {},
   "source": [
    "### Variable Length Arguments\n",
    "#### Positional and Keyword Arguments"
   ]
  },
  {
   "cell_type": "code",
   "execution_count": null,
   "id": "2776c2e9",
   "metadata": {},
   "outputs": [],
   "source": [
    "# Positional arguments\n",
    "def print_numbers(*args):\n",
    "    for number in args:\n",
    "        print(number)"
   ]
  },
  {
   "cell_type": "code",
   "execution_count": 9,
   "id": "a65bc359",
   "metadata": {},
   "outputs": [
    {
     "name": "stdout",
     "output_type": "stream",
     "text": [
      "1\n",
      "2\n",
      "3\n",
      "4\n",
      "5\n",
      "6\n",
      "7\n",
      "8\n",
      "9\n",
      "10\n",
      "talha\n"
     ]
    }
   ],
   "source": [
    "## Calling the function from above\n",
    "print_numbers(1, 2, 3, 4, 5, 6, 7, 8, 9, 10, \"talha\")"
   ]
  },
  {
   "cell_type": "code",
   "execution_count": 10,
   "id": "053a6256",
   "metadata": {},
   "outputs": [
    {
     "name": "stdout",
     "output_type": "stream",
     "text": [
      "name: talha\n",
      "age: 23\n",
      "country: Bangladesh\n"
     ]
    }
   ],
   "source": [
    "# Keywords Arguments\n",
    "## In this arguments all the arguments will be in key, value pair\n",
    "\n",
    "def print_details(**kwargs):\n",
    "    for key, value in kwargs.items():\n",
    "        print(f\"{key}: {value}\")\n",
    "\n",
    "## Calling the function\n",
    "print_details(name=\"talha\", age=23, country=\"Bangladesh\")"
   ]
  },
  {
   "cell_type": "code",
   "execution_count": null,
   "id": "2efcdefb",
   "metadata": {},
   "outputs": [
    {
     "name": "stdout",
     "output_type": "stream",
     "text": [
      "Positional Argument: 1\n",
      "Positional Argument: 2\n",
      "Positional Argument: 3\n",
      "Positional Argument: 4\n",
      "Positional Argument: Talha\n",
      "name: John Doe\n",
      "age: 99\n",
      "profession: athlete\n"
     ]
    }
   ],
   "source": [
    "# Both positional and keywords argument inside the same function\n",
    "def print_details(*args, **kwargs):\n",
    "    for val in args:\n",
    "        print(f\"Positional Argument: {val}\")\n",
    "\n",
    "    for key, value in kwargs.items():\n",
    "        print(f\"{key}: {value}\")\n",
    "\n",
    "\n",
    "# Calling function\n",
    "print_details(1, 2, 3, 4, \"Talha\", name=\"John Doe\", age=\"99\", profession=\"athlete\")"
   ]
  }
 ],
 "metadata": {
  "kernelspec": {
   "display_name": "Python 3",
   "language": "python",
   "name": "python3"
  },
  "language_info": {
   "codemirror_mode": {
    "name": "ipython",
    "version": 3
   },
   "file_extension": ".py",
   "mimetype": "text/x-python",
   "name": "python",
   "nbconvert_exporter": "python",
   "pygments_lexer": "ipython3",
   "version": "3.13.5"
  }
 },
 "nbformat": 4,
 "nbformat_minor": 5
}
