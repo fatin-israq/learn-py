{
 "cells": [
  {
   "cell_type": "markdown",
   "id": "896f54e2",
   "metadata": {},
   "source": [
    "# Practice Problems\n",
    "\n",
    "## 001 Celsius To Fahrenheit\n",
    "\n",
    "### Instructions\n",
    "\n",
    "**Problem Description:**\n",
    "\n",
    "You are given a temperature in Celsius. Your task is to convert it to Fahrenheit and return the result.\n",
    "\n",
    "**Formula:**\n",
    "\n",
    "To convert Celsius to Fahrenheit, use the formula:\n",
    "`F = (9/5 * C) + 32`\n",
    "\n",
    "Where:\n",
    "- F is the temperature in Fahrenheit\n",
    "- C is the temperature in Celsius\n",
    "\n",
    "**Input:**\n",
    "A floating-point number C representing the temperature in Celsius.\n",
    "\n",
    "**Output:**\n",
    "A floating-point number representing the temperature in Fahrenheit.\n"
   ]
  },
  {
   "cell_type": "code",
   "execution_count": 3,
   "id": "c8dceaff",
   "metadata": {},
   "outputs": [
    {
     "name": "stdout",
     "output_type": "stream",
     "text": [
      "32.0\n",
      "212.0\n",
      "77.0\n"
     ]
    }
   ],
   "source": [
    "def celsius_to_fahrenheit(C):\n",
    "    \"\"\"Function to convert temperature from Celsius to Fahrenheit\"\"\"\n",
    "    return (9/5 * C) + 32\n",
    "\n",
    "print(celsius_to_fahrenheit(0)) # output: 32.0\n",
    "print(celsius_to_fahrenheit(100)) # output: 212.0\n",
    "print(celsius_to_fahrenheit(25)) # output: 77.0"
   ]
  },
  {
   "cell_type": "markdown",
   "id": "7955ecaa",
   "metadata": {},
   "source": [
    "## 005 Line Equation\n",
    "\n",
    "### Instructions\n",
    "\n",
    "**Problem Description:**\n",
    "\n",
    "You are given the slope m and the y-intercept b of a line, along with a value x. Your task is to calculate and return the value of y using the equation of a line in slope-intercept form:\n",
    "`y=mx+b`\n",
    "\n",
    "**Input:**\n",
    "Three floating-point numbers: slope, intercept, and x.\n",
    "\n",
    "**Output:**\n",
    "A floating-point number representing the value of yyy corresponding to the given xxx.\n",
    "\n",
    "**Example:**\n",
    "Input: slope = 2, intercept = 3, x = 4\n",
    "Output: 11.0\n",
    "\n",
    "Input: slope = 1.5, intercept = -2, x = 2\n",
    "Output: 1.0"
   ]
  },
  {
   "cell_type": "code",
   "execution_count": 9,
   "id": "e2f8a392",
   "metadata": {},
   "outputs": [
    {
     "name": "stdout",
     "output_type": "stream",
     "text": [
      "y = 1.0\n",
      "y = 1.0\n"
     ]
    }
   ],
   "source": [
    "def y_value(slope, intercept, x):\n",
    "    return slope * x + intercept\n",
    "\n",
    "y_lambda = lambda slope, intercept, x: slope * x + intercept\n",
    "\n",
    "slope = float(input(\"slope = \"))\n",
    "intercept = float(input(\"intercept = \"))\n",
    "x = float(input(\"x = \"))\n",
    "\n",
    "print(f\"y = {y_value(slope, intercept, x)}\")\n",
    "print(f\"y = {y_lambda(slope, intercept, x)}\")\n",
    "# m = 1.5, b = -2, x = 2 -> y = 1.0"
   ]
  }
 ],
 "metadata": {
  "kernelspec": {
   "display_name": "Python 3",
   "language": "python",
   "name": "python3"
  },
  "language_info": {
   "codemirror_mode": {
    "name": "ipython",
    "version": 3
   },
   "file_extension": ".py",
   "mimetype": "text/x-python",
   "name": "python",
   "nbconvert_exporter": "python",
   "pygments_lexer": "ipython3",
   "version": "3.13.5"
  }
 },
 "nbformat": 4,
 "nbformat_minor": 5
}
