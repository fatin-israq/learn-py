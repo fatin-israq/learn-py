{
 "cells": [
  {
   "cell_type": "markdown",
   "id": "5ea25000",
   "metadata": {},
   "source": [
    "## Lesson 5.2: Standard Library Overview\n",
    "### Assignment 6: Working with the `os` Module\n",
    "\n",
    "Use the `os` module to create a new directory, list the contents of the current directory, and remove the newly created directory."
   ]
  },
  {
   "cell_type": "code",
   "execution_count": 15,
   "id": "4d73a460",
   "metadata": {},
   "outputs": [
    {
     "name": "stdout",
     "output_type": "stream",
     "text": [
      "['01-importing-modules.ipynb', 'practice_dir', '02-standard-library.ipynb']\n",
      "['01-importing-modules.ipynb', '02-standard-library.ipynb']\n"
     ]
    }
   ],
   "source": [
    "import os\n",
    "os.mkdir('practice_dir')\n",
    "print(os.listdir('.'))\n",
    "os.rmdir('practice_dir')\n",
    "print(os.listdir('.'))"
   ]
  },
  {
   "cell_type": "markdown",
   "id": "1925fa21",
   "metadata": {},
   "source": [
    "### Assignment 7: Working with the `sys` Module\n",
    "\n",
    "Use the `sys` module to print the Python version currently in use and the command-line arguments passed to the script."
   ]
  },
  {
   "cell_type": "code",
   "execution_count": 13,
   "id": "41ba5ed5",
   "metadata": {},
   "outputs": [
    {
     "name": "stdout",
     "output_type": "stream",
     "text": [
      "Python version: \n",
      "3.13.5 (v3.13.5:6cb20a219a8, Jun 11 2025, 12:23:45) [Clang 16.0.0 (clang-1600.0.26.6)]\n",
      "Command-line arguments:\n",
      "/Users/israq/Library/Python/3.13/lib/python/site-packages/ipykernel_launcher.py\n",
      "--f=/Users/israq/Library/Jupyter/runtime/kernel-v3b4302918e3009267bcb1f800ff9618fa76c8fcbe.json\n"
     ]
    }
   ],
   "source": [
    "import sys\n",
    "print(f\"Python version: \\n{sys.version}\")\n",
    "print(\"Command-line arguments:\")\n",
    "for item in sys.argv:\n",
    "    print(item)"
   ]
  },
  {
   "cell_type": "markdown",
   "id": "2cf551ef",
   "metadata": {},
   "source": [
    "### Assignment 8: Working with the `math` Module\n",
    "\n",
    "Use the `math` module to calculate the greatest common divisor (GCD) of two numbers and the factorial of a number."
   ]
  },
  {
   "cell_type": "code",
   "execution_count": 18,
   "id": "60ea918b",
   "metadata": {},
   "outputs": [
    {
     "name": "stdout",
     "output_type": "stream",
     "text": [
      "Factorial of 5: 120\n",
      "GCD of 48 and 18: 6\n"
     ]
    }
   ],
   "source": [
    "import math\n",
    "print(f\"Factorial of 5: {math.factorial(5)}\")\n",
    "print(f\"GCD of 48 and 18: {math.gcd(48, 18)}\")"
   ]
  },
  {
   "cell_type": "markdown",
   "id": "f006779c",
   "metadata": {},
   "source": [
    "### Assignment 9: Working with the `datetime` Module\n",
    "\n",
    "Use the `datetime` module to print the current date, calculate the date 100 days from today, and determine the day of the week for a given date."
   ]
  },
  {
   "cell_type": "code",
   "execution_count": 40,
   "id": "469a3319",
   "metadata": {},
   "outputs": [
    {
     "name": "stdout",
     "output_type": "stream",
     "text": [
      "Current Time: 2025-07-24 20:47:03.304066\n",
      "100 days later: 2025-11-01 20:47:03.304066\n",
      "Day of the week for 2022-01-03: Monday\n"
     ]
    }
   ],
   "source": [
    "import datetime as dt\n",
    "\n",
    "current_date = dt.datetime.today()\n",
    "print(f\"Current Time: {current_date}\")\n",
    "\n",
    "days_later = current_date + dt.timedelta(days=100)\n",
    "print(f\"100 days later: {days_later}\")\n",
    "\n",
    "given_date = dt.date(2022, 1, 3)\n",
    "print(f\"Day of the week for 2022-01-03: {given_date.strftime('%A')}\")"
   ]
  },
  {
   "cell_type": "markdown",
   "id": "76464bba",
   "metadata": {},
   "source": [
    "### Assignment 10: Working with the `random` Module\n",
    "\n",
    "Use the `random` module to generate a list of 5 random numbers between 1 and 50 and shuffle the elements of a list."
   ]
  },
  {
   "cell_type": "code",
   "execution_count": 48,
   "id": "482d7207",
   "metadata": {},
   "outputs": [
    {
     "name": "stdout",
     "output_type": "stream",
     "text": [
      "[23, 33, 47, 14, 12]\n",
      "[10, 22, 11, 18, 28]\n",
      "[22, 28, 10, 11, 18]\n"
     ]
    }
   ],
   "source": [
    "import random\n",
    "\n",
    "# Method 1\n",
    "lst = []\n",
    "for i in range(5):\n",
    "    lst.append(random.randint(1, 50))\n",
    "\n",
    "# Method 2\n",
    "random_numbers = [random.randint(1, 50) for _ in range(5)]\n",
    "\n",
    "print(lst)\n",
    "print(random_numbers)\n",
    "\n",
    "# Shuffle a list\n",
    "random.shuffle(random_numbers)\n",
    "print(random_numbers)"
   ]
  }
 ],
 "metadata": {
  "kernelspec": {
   "display_name": "Python 3",
   "language": "python",
   "name": "python3"
  },
  "language_info": {
   "codemirror_mode": {
    "name": "ipython",
    "version": 3
   },
   "file_extension": ".py",
   "mimetype": "text/x-python",
   "name": "python",
   "nbconvert_exporter": "python",
   "pygments_lexer": "ipython3",
   "version": "3.13.5"
  }
 },
 "nbformat": 4,
 "nbformat_minor": 5
}
