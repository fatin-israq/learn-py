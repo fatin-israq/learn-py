{
 "cells": [
  {
   "cell_type": "markdown",
   "id": "9c9c30b7",
   "metadata": {},
   "source": [
    "## Lesson 5.3: Creating and Using Packages\n",
    "### Assignment 11: Creating a Simple Package\n",
    "\n",
    "Create a package named `mypackage` with two modules: `module1` and `module2`. `module1` should contain a function that adds two numbers, and `module2` should contain a function that multiplies two numbers. Write code to use these functions."
   ]
  },
  {
   "cell_type": "code",
   "execution_count": 2,
   "id": "4dfc9109",
   "metadata": {},
   "outputs": [
    {
     "name": "stdout",
     "output_type": "stream",
     "text": [
      "Sum: 5\n",
      "Multiplication: 6\n"
     ]
    }
   ],
   "source": [
    "from mypackage import module1, module2\n",
    "\n",
    "summ = module1.add(2, 3)\n",
    "multi = module2.multi(2, 3)\n",
    "\n",
    "print(f\"Sum: {summ}\")\n",
    "print(f\"Multiplication: {multi}\")"
   ]
  },
  {
   "cell_type": "markdown",
   "id": "ab5be30f",
   "metadata": {},
   "source": [
    "### Assignment 13: Importing from a Package\n",
    "\n",
    "Write code to import and use the functions from `mypackage` without explicitly importing `module1` and `module2`."
   ]
  },
  {
   "cell_type": "code",
   "execution_count": 4,
   "id": "50cf0724",
   "metadata": {},
   "outputs": [
    {
     "name": "stdout",
     "output_type": "stream",
     "text": [
      "Sum: 9\n",
      "Multiplication: 20\n"
     ]
    }
   ],
   "source": [
    "from mypackage.module1 import add\n",
    "from mypackage.module2 import multi\n",
    "\n",
    "result_sum = add(4, 5)\n",
    "result_multiplication = multi(4, 5)\n",
    "\n",
    "print(f\"Sum: {result_sum}\")\n",
    "print(f\"Multiplication: {result_multiplication}\")"
   ]
  }
 ],
 "metadata": {
  "kernelspec": {
   "display_name": "Python 3",
   "language": "python",
   "name": "python3"
  },
  "language_info": {
   "codemirror_mode": {
    "name": "ipython",
    "version": 3
   },
   "file_extension": ".py",
   "mimetype": "text/x-python",
   "name": "python",
   "nbconvert_exporter": "python",
   "pygments_lexer": "ipython3",
   "version": "3.13.5"
  }
 },
 "nbformat": 4,
 "nbformat_minor": 5
}
