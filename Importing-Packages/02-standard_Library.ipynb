{
 "cells": [
  {
   "cell_type": "markdown",
   "id": "6bde0a37",
   "metadata": {},
   "source": [
    "# Standard Library Overview\n",
    "\n",
    "Python's Standard Library is a vast collection of modules and packages that come bundled with Python, providing a wide range of functionalities out of the box."
   ]
  },
  {
   "cell_type": "code",
   "execution_count": 1,
   "id": "d13fa3ef",
   "metadata": {},
   "outputs": [
    {
     "name": "stdout",
     "output_type": "stream",
     "text": [
      "array('i', [1, 2, 3, 4])\n"
     ]
    }
   ],
   "source": [
    "import array\n",
    "arr = array.array('i', [1, 2, 3, 4])\n",
    "print(arr)"
   ]
  },
  {
   "cell_type": "code",
   "execution_count": 3,
   "id": "11240724",
   "metadata": {},
   "outputs": [
    {
     "name": "stdout",
     "output_type": "stream",
     "text": [
      "4.0\n",
      "3.141592653589793\n"
     ]
    }
   ],
   "source": [
    "import math\n",
    "print(math.sqrt(16))\n",
    "print(math.pi)"
   ]
  },
  {
   "cell_type": "code",
   "execution_count": 14,
   "id": "98884076",
   "metadata": {},
   "outputs": [
    {
     "name": "stdout",
     "output_type": "stream",
     "text": [
      "7\n",
      "banana\n"
     ]
    }
   ],
   "source": [
    "## random \n",
    "import random\n",
    "print(random.randint(1, 10))\n",
    "print(random.choice(['apple', 'banana', 'cherry']))"
   ]
  },
  {
   "cell_type": "code",
   "execution_count": null,
   "id": "00a9abd3",
   "metadata": {},
   "outputs": [
    {
     "name": "stdout",
     "output_type": "stream",
     "text": [
      "/Users/israq/Documents/Development/learn-py/Importing-Packages\n"
     ]
    }
   ],
   "source": [
    "## File and Directory Access\n",
    "\n",
    "import os\n",
    "print(os.getcwd())          # Gets the current working directory"
   ]
  },
  {
   "cell_type": "code",
   "execution_count": 16,
   "id": "9d7cbb48",
   "metadata": {},
   "outputs": [],
   "source": [
    "os.mkdir('test_dir')        # Creates a folder named 'test_dir'"
   ]
  },
  {
   "cell_type": "code",
   "execution_count": null,
   "id": "5e70764e",
   "metadata": {},
   "outputs": [
    {
     "data": {
      "text/plain": [
       "'destination.txt'"
      ]
     },
     "execution_count": 17,
     "metadata": {},
     "output_type": "execute_result"
    }
   ],
   "source": [
    "## High level operations on files and collections of files\n",
    "import shutil\n",
    "shutil.copyfile('source.txt', 'destination.txt')        # copies source.txt and put to destination.txt"
   ]
  },
  {
   "cell_type": "code",
   "execution_count": null,
   "id": "89803eea",
   "metadata": {},
   "outputs": [
    {
     "name": "stdout",
     "output_type": "stream",
     "text": [
      "{\"name\": \"Talha\", \"age\": 23}\n",
      "<class 'str'>\n",
      "{'name': 'Talha', 'age': 23}\n",
      "<class 'dict'>\n"
     ]
    }
   ],
   "source": [
    "## Data Serialization\n",
    "\n",
    "import json\n",
    "data = {'name': 'Talha', 'age': 23}\n",
    "\n",
    "json_str = json.dumps(data)\n",
    "print(json_str)\n",
    "print(type(json_str))\n",
    "\n",
    "parsed_data = json.loads(json_str)\n",
    "print(parsed_data)\n",
    "print(type(parsed_data))"
   ]
  },
  {
   "cell_type": "code",
   "execution_count": null,
   "id": "90540e1e",
   "metadata": {},
   "outputs": [
    {
     "name": "stdout",
     "output_type": "stream",
     "text": [
      "['name', 'age']\n",
      "['Talha', '23']\n"
     ]
    }
   ],
   "source": [
    "## csv files\n",
    "\n",
    "import csv\n",
    "\n",
    "# Writing data to a CSV file\n",
    "# Open a file in write mode ('w') with newline='' to avoid extra blank lines\n",
    "with open('example.csv', mode='w', newline='') as file:\n",
    "    # Create a CSV writer object to write data to the file\n",
    "    writer = csv.writer(file)\n",
    "    # Write the header row (column names)\n",
    "    writer.writerow(['name', 'age'])\n",
    "    # Write a data row\n",
    "    writer.writerow(['Talha', 23])\n",
    "\n",
    "# Reading data from a CSV file\n",
    "# Open the file in read mode ('r')\n",
    "with open('example.csv', mode='r') as file:\n",
    "    # Create a CSV reader object to read data from the file\n",
    "    reader = csv.reader(file)\n",
    "    # Iterate through each row in the CSV file and print it\n",
    "    for row in reader:\n",
    "        print(row)  # Each row is returned as a list"
   ]
  },
  {
   "cell_type": "code",
   "execution_count": 24,
   "id": "4f169672",
   "metadata": {},
   "outputs": [
    {
     "name": "stdout",
     "output_type": "stream",
     "text": [
      "2025-07-24 18:33:16.921329\n",
      "2025-07-23 18:33:16.921329\n"
     ]
    }
   ],
   "source": [
    "## datetime\n",
    "from datetime import datetime, timedelta\n",
    "\n",
    "now = datetime.now()\n",
    "print(now)\n",
    "\n",
    "# timedelta(days=1) creates a time difference of 1 day\n",
    "yesterday = now - timedelta(days=1)\n",
    "print(yesterday)"
   ]
  },
  {
   "cell_type": "code",
   "execution_count": 26,
   "id": "6c883653",
   "metadata": {},
   "outputs": [
    {
     "name": "stdout",
     "output_type": "stream",
     "text": [
      "1753360440.0343308\n",
      "1753360442.0397298\n"
     ]
    }
   ],
   "source": [
    "## time\n",
    "import time\n",
    "print(time.time())\n",
    "\n",
    "time.sleep(2)\n",
    "print(time.time())"
   ]
  },
  {
   "cell_type": "code",
   "execution_count": null,
   "id": "b465500a",
   "metadata": {},
   "outputs": [
    {
     "name": "stdout",
     "output_type": "stream",
     "text": [
      "123\n"
     ]
    }
   ],
   "source": [
    "## Regular Expression\n",
    "import re\n",
    "\n",
    "pattern = r'\\d+'        # \\d matches any digit (0-9), + means one or more digits\n",
    "text = 'There are 123 apples'\n",
    "match = re.search(pattern, text)  # search() finds the first match in the text\n",
    "print(match.group())    # group() returns the matched string"
   ]
  }
 ],
 "metadata": {
  "kernelspec": {
   "display_name": "Python 3",
   "language": "python",
   "name": "python3"
  },
  "language_info": {
   "codemirror_mode": {
    "name": "ipython",
    "version": 3
   },
   "file_extension": ".py",
   "mimetype": "text/x-python",
   "name": "python",
   "nbconvert_exporter": "python",
   "pygments_lexer": "ipython3",
   "version": "3.13.5"
  }
 },
 "nbformat": 4,
 "nbformat_minor": 5
}
