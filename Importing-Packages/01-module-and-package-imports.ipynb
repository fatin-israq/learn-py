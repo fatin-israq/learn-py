{
 "cells": [
  {
   "cell_type": "markdown",
   "id": "1d24251f",
   "metadata": {},
   "source": [
    "# Import Modules in Python: Modules and Packages\n",
    "\n",
    "In Python, modules and packages help organize and reuse code. Here's how to import thpem."
   ]
  },
  {
   "cell_type": "code",
   "execution_count": null,
   "id": "f695d138",
   "metadata": {},
   "outputs": [
    {
     "data": {
      "text/plain": [
       "4.0"
      ]
     },
     "execution_count": 1,
     "metadata": {},
     "output_type": "execute_result"
    }
   ],
   "source": [
    "# import math\n",
    "import math\n",
    "# now we have access to a lot of functions from math package\n",
    "\n",
    "math.sqrt(16)"
   ]
  },
  {
   "cell_type": "code",
   "execution_count": null,
   "id": "5e9b026d",
   "metadata": {},
   "outputs": [
    {
     "name": "stdout",
     "output_type": "stream",
     "text": [
      "8.0\n",
      "5.0\n",
      "3.141592653589793\n"
     ]
    }
   ],
   "source": [
    "# importing only sqrt and pi from math package\n",
    "from math import sqrt, pi\n",
    "print(sqrt(64))\n",
    "print(sqrt(25))\n",
    "print(pi)"
   ]
  },
  {
   "cell_type": "code",
   "execution_count": 6,
   "id": "c2a53366",
   "metadata": {},
   "outputs": [
    {
     "data": {
      "text/plain": [
       "array([1, 2, 3, 4])"
      ]
     },
     "execution_count": 6,
     "metadata": {},
     "output_type": "execute_result"
    }
   ],
   "source": [
    "# here np is an alias of numpy.\n",
    "import numpy as np\n",
    "\n",
    "np.array([1, 2, 3, 4])"
   ]
  },
  {
   "cell_type": "markdown",
   "id": "d8ede84a",
   "metadata": {},
   "source": [
    "* Numpy might not be pre-installed on your system. So you might get an error when importing numpy.\n",
    "* For installing numpy or anyother third party packages, we need to go the terminal and write\n",
    "`pip3 install numpy` or `pip3 install -r requirements.txt` -> supposingly we have a .txt file with all the package name we need to install"
   ]
  },
  {
   "cell_type": "code",
   "execution_count": 8,
   "id": "71c7a292",
   "metadata": {},
   "outputs": [
    {
     "name": "stdout",
     "output_type": "stream",
     "text": [
      "4.0\n",
      "3.141592653589793\n"
     ]
    }
   ],
   "source": [
    "# import every modules from a package\n",
    "from math import *\n",
    "# now we can directly call the modules\n",
    "print(sqrt(16))\n",
    "print(pi)"
   ]
  },
  {
   "cell_type": "code",
   "execution_count": 9,
   "id": "d734553e",
   "metadata": {},
   "outputs": [
    {
     "name": "stdout",
     "output_type": "stream",
     "text": [
      "5\n",
      "3\n"
     ]
    }
   ],
   "source": [
    "from package.maths_by_israq import addition, subtraction\n",
    "\n",
    "print(addition(2, 3))\n",
    "print(subtraction(5, 2))"
   ]
  },
  {
   "cell_type": "code",
   "execution_count": 10,
   "id": "d0c170b6",
   "metadata": {},
   "outputs": [
    {
     "data": {
      "text/plain": [
       "10"
      ]
     },
     "execution_count": 10,
     "metadata": {},
     "output_type": "execute_result"
    }
   ],
   "source": [
    "from package import maths_by_israq\n",
    "maths_by_israq.multiplication(2, 5)"
   ]
  }
 ],
 "metadata": {
  "kernelspec": {
   "display_name": "Python 3",
   "language": "python",
   "name": "python3"
  },
  "language_info": {
   "codemirror_mode": {
    "name": "ipython",
    "version": 3
   },
   "file_extension": ".py",
   "mimetype": "text/x-python",
   "name": "python",
   "nbconvert_exporter": "python",
   "pygments_lexer": "ipython3",
   "version": "3.13.5"
  }
 },
 "nbformat": 4,
 "nbformat_minor": 5
}
