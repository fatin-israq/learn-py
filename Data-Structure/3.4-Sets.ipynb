{
 "cells": [
  {
   "cell_type": "markdown",
   "id": "28c77257",
   "metadata": {},
   "source": [
    "## Sets\n",
    "\n",
    "A set is an unordered collection of unique elements in Python. They are unordered. Sets are useful for membership testing, removing duplicates, and performing mathematical set operations like union, intersection, and difference. You can create a set using curly braces `{}` or the `set()` constructor."
   ]
  },
  {
   "cell_type": "code",
   "execution_count": 4,
   "id": "5fa85f1e",
   "metadata": {},
   "outputs": [
    {
     "name": "stdout",
     "output_type": "stream",
     "text": [
      "<class 'set'>\n",
      "{1, 2, 3, 4, 5}\n"
     ]
    }
   ],
   "source": [
    "## Create a set\n",
    "\n",
    "my_set = {1, 2, 3, 4, 5}\n",
    "print(type(my_set))\n",
    "print(my_set)"
   ]
  },
  {
   "cell_type": "code",
   "execution_count": 5,
   "id": "97381287",
   "metadata": {},
   "outputs": [
    {
     "data": {
      "text/plain": [
       "set"
      ]
     },
     "execution_count": 5,
     "metadata": {},
     "output_type": "execute_result"
    }
   ],
   "source": [
    "my_empty_set = set()\n",
    "type(my_empty_set)"
   ]
  },
  {
   "cell_type": "code",
   "execution_count": null,
   "id": "78625dd1",
   "metadata": {},
   "outputs": [
    {
     "name": "stdout",
     "output_type": "stream",
     "text": [
      "{1, 2, 3, 4, 5}\n"
     ]
    }
   ],
   "source": [
    "my_set = set([1, 1, 2, 2, 4, 3, 4, 5])\n",
    "print(my_set)       # It won't print any duplicate values"
   ]
  },
  {
   "cell_type": "markdown",
   "id": "8c09bd6b",
   "metadata": {},
   "source": [
    "#### Basic Sets Operations"
   ]
  },
  {
   "cell_type": "code",
   "execution_count": 6,
   "id": "169adf4b",
   "metadata": {},
   "outputs": [
    {
     "name": "stdout",
     "output_type": "stream",
     "text": [
      "{1, 2, 3, 4, 5, 7}\n",
      "{1, 2, 3, 4, 5, 7}\n",
      "{1, 2, 4, 5, 7}\n"
     ]
    }
   ],
   "source": [
    "## Adding and Removing elements\n",
    "my_set.add(7)\n",
    "print(my_set)\n",
    "\n",
    "my_set.add(7)\n",
    "print(my_set)\n",
    "\n",
    "my_set.remove(3)\n",
    "print(my_set)"
   ]
  },
  {
   "cell_type": "code",
   "execution_count": null,
   "id": "29e8645c",
   "metadata": {},
   "outputs": [
    {
     "ename": "KeyError",
     "evalue": "3",
     "output_type": "error",
     "traceback": [
      "\u001b[31m---------------------------------------------------------------------------\u001b[39m",
      "\u001b[31mKeyError\u001b[39m                                  Traceback (most recent call last)",
      "\u001b[36mCell\u001b[39m\u001b[36m \u001b[39m\u001b[32mIn[7]\u001b[39m\u001b[32m, line 2\u001b[39m\n\u001b[32m      1\u001b[39m \u001b[38;5;66;03m## Removing elements without error\u001b[39;00m\n\u001b[32m----> \u001b[39m\u001b[32m2\u001b[39m \u001b[43mmy_set\u001b[49m\u001b[43m.\u001b[49m\u001b[43mremove\u001b[49m\u001b[43m(\u001b[49m\u001b[32;43m3\u001b[39;49m\u001b[43m)\u001b[49m\n",
      "\u001b[31mKeyError\u001b[39m: 3"
     ]
    }
   ],
   "source": [
    "## Removing elements without error\n",
    "my_set.remove(3) # This gives an error"
   ]
  },
  {
   "cell_type": "code",
   "execution_count": null,
   "id": "b21565e0",
   "metadata": {},
   "outputs": [
    {
     "data": {
      "text/plain": [
       "{1, 2, 4, 5, 7}"
      ]
     },
     "execution_count": 8,
     "metadata": {},
     "output_type": "execute_result"
    }
   ],
   "source": [
    "my_set.discard(3) # This doesn't give any error even if the element doesn't exist\n",
    "my_set"
   ]
  },
  {
   "cell_type": "code",
   "execution_count": 9,
   "id": "a451bf83",
   "metadata": {},
   "outputs": [
    {
     "name": "stdout",
     "output_type": "stream",
     "text": [
      "1\n",
      "{2, 4, 5, 7}\n"
     ]
    }
   ],
   "source": [
    "## Pop method\n",
    "removed_element = my_set.pop()\n",
    "print(removed_element)\n",
    "print(my_set)"
   ]
  },
  {
   "cell_type": "code",
   "execution_count": 11,
   "id": "1c35009c",
   "metadata": {},
   "outputs": [
    {
     "name": "stdout",
     "output_type": "stream",
     "text": [
      "set()\n"
     ]
    }
   ],
   "source": [
    "## Clear all the elements\n",
    "my_set.clear()\n",
    "print(my_set)"
   ]
  },
  {
   "cell_type": "code",
   "execution_count": 12,
   "id": "0f6a5178",
   "metadata": {},
   "outputs": [
    {
     "name": "stdout",
     "output_type": "stream",
     "text": [
      "True\n",
      "False\n"
     ]
    }
   ],
   "source": [
    "## Set Membership Test\n",
    "my_set = {1, 2, 3, 4, 5}\n",
    "\n",
    "print(3 in my_set)\n",
    "print(10 in my_set)"
   ]
  },
  {
   "cell_type": "code",
   "execution_count": 16,
   "id": "6584e58f",
   "metadata": {},
   "outputs": [
    {
     "name": "stdout",
     "output_type": "stream",
     "text": [
      "{1, 2, 3, 4, 5, 6, 7, 8}\n",
      "{4, 5}\n",
      "{4, 5}\n"
     ]
    }
   ],
   "source": [
    "## Mathematical Operation\n",
    "\n",
    "set1 = {1, 2, 3, 4, 5}\n",
    "set2 = {4, 5, 6, 7, 8}\n",
    "\n",
    "## Union\n",
    "union_set = set1.union(set2)\n",
    "print(union_set)\n",
    "\n",
    "## Intersection\n",
    "intersact_set = set1.intersection(set2)\n",
    "print(intersact_set)\n",
    "\n",
    "set1.intersection_update(set2)  # This will update set1 with the intersection set\n",
    "print(set1)"
   ]
  },
  {
   "cell_type": "code",
   "execution_count": 18,
   "id": "05c9aa01",
   "metadata": {},
   "outputs": [
    {
     "name": "stdout",
     "output_type": "stream",
     "text": [
      "{1, 2, 3}\n"
     ]
    },
    {
     "data": {
      "text/plain": [
       "{1, 2, 3, 6, 7, 8}"
      ]
     },
     "execution_count": 18,
     "metadata": {},
     "output_type": "execute_result"
    }
   ],
   "source": [
    "## Different\n",
    "set1 = {1, 2, 3, 4, 5}\n",
    "\n",
    "print(set1.difference(set2))\n",
    "\n",
    "# Symmetric Difference\n",
    "set1.symmetric_difference(set2)"
   ]
  },
  {
   "cell_type": "code",
   "execution_count": 22,
   "id": "65b4c3f0",
   "metadata": {},
   "outputs": [
    {
     "name": "stdout",
     "output_type": "stream",
     "text": [
      "False\n",
      "True\n"
     ]
    }
   ],
   "source": [
    "# Set Methods\n",
    "\n",
    "set1 = {1, 2, 3, 4, 5}\n",
    "set2 = {3, 4, 5}\n",
    "\n",
    "# is subset\n",
    "print(set1.issubset(set2))\n",
    "\n",
    "print(set1.issuperset(set2))"
   ]
  },
  {
   "cell_type": "markdown",
   "id": "a5609625",
   "metadata": {},
   "source": [
    "Counting Unique words in text"
   ]
  },
  {
   "cell_type": "code",
   "execution_count": 27,
   "id": "0b6b7681",
   "metadata": {},
   "outputs": [
    {
     "name": "stdout",
     "output_type": "stream",
     "text": [
      "{'are', 'beautiful.', 'horses,', 'different', 'of', 'them', 'five', 'There', 'which', 'very'}\n",
      "10\n"
     ]
    }
   ],
   "source": [
    "text = \"There are five different horses, which of them are very beautiful.\"\n",
    "words = text.split()\n",
    "\n",
    "## Convert list of words into a set to get the unique words\n",
    "unique_words = set(words)\n",
    "print(unique_words)\n",
    "print(len(unique_words))"
   ]
  }
 ],
 "metadata": {
  "kernelspec": {
   "display_name": "Python 3",
   "language": "python",
   "name": "python3"
  },
  "language_info": {
   "codemirror_mode": {
    "name": "ipython",
    "version": 3
   },
   "file_extension": ".py",
   "mimetype": "text/x-python",
   "name": "python",
   "nbconvert_exporter": "python",
   "pygments_lexer": "ipython3",
   "version": "3.13.5"
  }
 },
 "nbformat": 4,
 "nbformat_minor": 5
}
