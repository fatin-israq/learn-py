{
 "cells": [
  {
   "cell_type": "markdown",
   "id": "c563ae49",
   "metadata": {},
   "source": [
    "## Dictionaries\n",
    "\n",
    "Dictionaries are unordered collections of items. They store data in key-value pairs. Keys must be unique and immutable (eg. strigs, numbers, or tuples), while values can be of any type."
   ]
  },
  {
   "cell_type": "code",
   "execution_count": 2,
   "id": "5a6967be",
   "metadata": {},
   "outputs": [
    {
     "name": "stdout",
     "output_type": "stream",
     "text": [
      "<class 'dict'>\n"
     ]
    }
   ],
   "source": [
    "## Creating dictionary\n",
    "empty_dict = {}\n",
    "print(type(empty_dict))"
   ]
  },
  {
   "cell_type": "code",
   "execution_count": 3,
   "id": "f7620455",
   "metadata": {},
   "outputs": [
    {
     "data": {
      "text/plain": [
       "{}"
      ]
     },
     "execution_count": 3,
     "metadata": {},
     "output_type": "execute_result"
    }
   ],
   "source": [
    "empty_dict = dict()\n",
    "empty_dict"
   ]
  },
  {
   "cell_type": "code",
   "execution_count": 4,
   "id": "33a51160",
   "metadata": {},
   "outputs": [
    {
     "name": "stdout",
     "output_type": "stream",
     "text": [
      "{'name': 'Talha', 'age': 23, 'grade': 89}\n",
      "<class 'dict'>\n"
     ]
    }
   ],
   "source": [
    "student = {\"name\": \"Talha\", \"age\": 23, \"grade\": 89}\n",
    "print(student)\n",
    "print(type(student))"
   ]
  },
  {
   "cell_type": "code",
   "execution_count": null,
   "id": "d0501c12",
   "metadata": {},
   "outputs": [
    {
     "name": "stdout",
     "output_type": "stream",
     "text": [
      "{'name': 89, 'age': 23}\n"
     ]
    }
   ],
   "source": [
    "# Always single key used\n",
    "student = {\"name\": \"Talha\", \"age\": 23, \"name\": 89}\n",
    "print(student)"
   ]
  },
  {
   "cell_type": "markdown",
   "id": "94d7ff0b",
   "metadata": {},
   "source": [
    "### Accessing Dictionary Elements"
   ]
  },
  {
   "cell_type": "code",
   "execution_count": 7,
   "id": "5e2c694a",
   "metadata": {},
   "outputs": [
    {
     "name": "stdout",
     "output_type": "stream",
     "text": [
      "{'name': 'Talha', 'age': 23, 'grade': 'A'}\n"
     ]
    }
   ],
   "source": [
    "student = {\"name\": \"Talha\", \"age\": 23, \"grade\": 'A'}\n",
    "print(student)"
   ]
  },
  {
   "cell_type": "code",
   "execution_count": 12,
   "id": "d7c858b5",
   "metadata": {},
   "outputs": [
    {
     "name": "stdout",
     "output_type": "stream",
     "text": [
      "A\n",
      "23\n",
      "A\n",
      "None\n",
      "Not available\n"
     ]
    }
   ],
   "source": [
    "# Accessing dictionary elements\n",
    "print(student['grade'])\n",
    "print(student['age'])\n",
    "\n",
    "\n",
    "# Accessing using get() method\n",
    "print(student.get('grade'))\n",
    "print(student.get('last_name')) # because this key doesn't exist\n",
    "print(student.get('first_name', \"Not available\"))   # Setting default value if key doesn't exist"
   ]
  },
  {
   "cell_type": "markdown",
   "id": "ebf65883",
   "metadata": {},
   "source": [
    "### Modifying dictionary elements\n",
    "#### Dictionary are mutable, so you can add, delete, or update elements\n"
   ]
  },
  {
   "cell_type": "code",
   "execution_count": null,
   "id": "d7ad2f03",
   "metadata": {},
   "outputs": [
    {
     "name": "stdout",
     "output_type": "stream",
     "text": [
      "{'name': 'Talha', 'age': 33, 'grade': 'A'}\n",
      "{'name': 'Talha', 'age': 33, 'grade': 'A'}\n",
      "{'name': 'Talha', 'age': 33, 'grade': 'A', 'address': 'Bangladesh'}\n"
     ]
    }
   ],
   "source": [
    "print(student)\n",
    "student[\"age\"] = 33                 # Update value for a key\n",
    "print(student)\n",
    "student[\"address\"] = \"Bangladesh\"   # Added a new key and value\n",
    "print(student)"
   ]
  },
  {
   "cell_type": "code",
   "execution_count": 16,
   "id": "d72d3a1b",
   "metadata": {},
   "outputs": [
    {
     "name": "stdout",
     "output_type": "stream",
     "text": [
      "{'name': 'Talha', 'age': 33, 'grade': 'A'}\n"
     ]
    }
   ],
   "source": [
    "del student['address']              # delete key and value pair\n",
    "print(student)"
   ]
  },
  {
   "cell_type": "code",
   "execution_count": 19,
   "id": "0d0f35a3",
   "metadata": {},
   "outputs": [
    {
     "name": "stdout",
     "output_type": "stream",
     "text": [
      "dict_keys(['name', 'age', 'grade'])\n",
      "dict_values(['Talha', 33, 'A'])\n",
      "dict_items([('name', 'Talha'), ('age', 33), ('grade', 'A')])\n"
     ]
    }
   ],
   "source": [
    "## Dictionary Methods\n",
    "\n",
    "keys = student.keys()               # get all the keys\n",
    "print(keys)\n",
    "values = student.values()           # get all the values\n",
    "print(values)\n",
    "\n",
    "items = student.items()             # get all key and value pairs\n",
    "print(items)"
   ]
  },
  {
   "cell_type": "markdown",
   "id": "a8d9063b",
   "metadata": {},
   "source": [
    "#### Shallow copy"
   ]
  },
  {
   "cell_type": "code",
   "execution_count": 21,
   "id": "ff93aa6b",
   "metadata": {},
   "outputs": [
    {
     "name": "stdout",
     "output_type": "stream",
     "text": [
      "{'name': 'Talha', 'age': 33, 'grade': 'A'}\n",
      "{'name': 'Talha', 'age': 33, 'grade': 'A'}\n"
     ]
    }
   ],
   "source": [
    "student_copy = student\n",
    "print(student)\n",
    "print(student_copy)"
   ]
  },
  {
   "cell_type": "code",
   "execution_count": 22,
   "id": "dc5f3f2b",
   "metadata": {},
   "outputs": [
    {
     "name": "stdout",
     "output_type": "stream",
     "text": [
      "{'name': 'Hitler', 'age': 33, 'grade': 'A'}\n",
      "{'name': 'Hitler', 'age': 33, 'grade': 'A'}\n"
     ]
    }
   ],
   "source": [
    "student[\"name\"] = \"Hitler\"\n",
    "print(student)\n",
    "print(student_copy)"
   ]
  },
  {
   "cell_type": "code",
   "execution_count": 25,
   "id": "ebd5fc81",
   "metadata": {},
   "outputs": [
    {
     "name": "stdout",
     "output_type": "stream",
     "text": [
      "{'name': 'Hitler', 'age': 33, 'grade': 'A'}\n",
      "{'name': 'Hitler', 'age': 33, 'grade': 'A'}\n",
      "{'name': 'Hitler', 'age': 33, 'grade': 'A'}\n",
      "{'name': 'Talha', 'age': 33, 'grade': 'A'}\n"
     ]
    }
   ],
   "source": [
    "student_copy1 = student.copy()          # shallow copy\n",
    "print(student)\n",
    "print(student_copy1)\n",
    "\n",
    "student_copy1[\"name\"] = \"Talha\"\n",
    "print(student)\n",
    "print(student_copy1)"
   ]
  },
  {
   "cell_type": "markdown",
   "id": "ef692c24",
   "metadata": {},
   "source": [
    "#### Iterating Over dictionaries\n",
    "We can use loops to iterate over dictionaries, keys, values or items"
   ]
  },
  {
   "cell_type": "code",
   "execution_count": 26,
   "id": "8d5abcbb",
   "metadata": {},
   "outputs": [
    {
     "name": "stdout",
     "output_type": "stream",
     "text": [
      "name\n",
      "age\n",
      "grade\n"
     ]
    }
   ],
   "source": [
    "# Iterating over keys\n",
    "\n",
    "for keys in student.keys():\n",
    "    print(keys)"
   ]
  },
  {
   "cell_type": "code",
   "execution_count": 27,
   "id": "bdafe4e6",
   "metadata": {},
   "outputs": [
    {
     "name": "stdout",
     "output_type": "stream",
     "text": [
      "Hitler\n",
      "33\n",
      "A\n"
     ]
    }
   ],
   "source": [
    "# Iterate over values\n",
    "\n",
    "for values in student.values():\n",
    "    print(values)"
   ]
  },
  {
   "cell_type": "code",
   "execution_count": 28,
   "id": "3b3426dc",
   "metadata": {},
   "outputs": [
    {
     "name": "stdout",
     "output_type": "stream",
     "text": [
      "name: Hitler\n",
      "age: 33\n",
      "grade: A\n"
     ]
    }
   ],
   "source": [
    "# Iterate over key, value pairs\n",
    "\n",
    "for key, value in student.items():\n",
    "    print(f\"{key}: {value}\")"
   ]
  },
  {
   "cell_type": "code",
   "execution_count": 30,
   "id": "ca7f8489",
   "metadata": {},
   "outputs": [
    {
     "name": "stdout",
     "output_type": "stream",
     "text": [
      "{'student1': {'name': 'Talha', 'age': 23}, 'student2': {'name': 'Peter', 'age': 18}}\n"
     ]
    }
   ],
   "source": [
    "# Nested Dictionaries\n",
    "\n",
    "students = {\n",
    "    \"student1\": {\"name\": \"Talha\", \"age\": 23},\n",
    "    \"student2\": {\"name\": \"Peter\", \"age\": 18}\n",
    "}\n",
    "\n",
    "print(students)"
   ]
  },
  {
   "cell_type": "code",
   "execution_count": 34,
   "id": "842f42d6",
   "metadata": {},
   "outputs": [
    {
     "name": "stdout",
     "output_type": "stream",
     "text": [
      "Peter\n",
      "18\n"
     ]
    }
   ],
   "source": [
    "# Access nested dictionaries\n",
    "\n",
    "print(students[\"student2\"][\"name\"])\n",
    "print(students[\"student2\"][\"age\"])"
   ]
  },
  {
   "cell_type": "code",
   "execution_count": 35,
   "id": "877deb05",
   "metadata": {},
   "outputs": [
    {
     "name": "stdout",
     "output_type": "stream",
     "text": [
      "student1: {'name': 'Talha', 'age': 23}\n",
      "name: Talha\n",
      "age: 23\n",
      "student2: {'name': 'Peter', 'age': 18}\n",
      "name: Peter\n",
      "age: 18\n"
     ]
    }
   ],
   "source": [
    "# Iterating over nested dictionaries\n",
    "\n",
    "for student_id, student_info in students.items():\n",
    "    print(f\"{student_id}: {student_info}\")\n",
    "    for key, value in student_info.items():\n",
    "        print(f\"{key}: {value}\")"
   ]
  },
  {
   "cell_type": "code",
   "execution_count": 38,
   "id": "193e7cc4",
   "metadata": {},
   "outputs": [
    {
     "name": "stdout",
     "output_type": "stream",
     "text": [
      "{0: 0, 1: 1, 2: 4, 3: 9, 4: 16}\n",
      "{0: 0, 1: 1, 2: 4, 3: 9, 4: 16}\n"
     ]
    }
   ],
   "source": [
    "#### Dictionary Comprehension\n",
    "squares = dict()\n",
    "for x in range(5):\n",
    "    squares[x] = x**2\n",
    "print(squares)\n",
    "\n",
    "squares = {x: x**2 for x in range(5)}\n",
    "print(squares)"
   ]
  },
  {
   "cell_type": "code",
   "execution_count": 40,
   "id": "95580ca2",
   "metadata": {},
   "outputs": [
    {
     "name": "stdout",
     "output_type": "stream",
     "text": [
      "{0: 0, 2: 4, 4: 16, 6: 36, 8: 64}\n"
     ]
    }
   ],
   "source": [
    "#### conditional comprehension\n",
    "evens = {x: x**2 for x in range(10) if x%2==0}\n",
    "print(evens)"
   ]
  },
  {
   "cell_type": "markdown",
   "id": "2d9decc1",
   "metadata": {},
   "source": [
    "### Practical Examples\n",
    "* Use a dictionary to count the frequency of elements in a list\n",
    "    \n",
    "    numbers = [1, 2, 2, 3, 3, 4, 5, 4, 4, 4]"
   ]
  },
  {
   "cell_type": "code",
   "execution_count": 41,
   "id": "cbb9ec68",
   "metadata": {},
   "outputs": [
    {
     "name": "stdout",
     "output_type": "stream",
     "text": [
      "{1: 1, 2: 2, 3: 2, 4: 4, 5: 3}\n"
     ]
    }
   ],
   "source": [
    "numbers = [1, 2, 2, 3, 3, 4, 5, 4, 4, 5, 5, 4]\n",
    "freq = {}\n",
    "\n",
    "for number in numbers:\n",
    "    freq[number] = 0\n",
    "\n",
    "for number in numbers:\n",
    "    freq[number] += 1\n",
    "\n",
    "print(freq)"
   ]
  },
  {
   "cell_type": "markdown",
   "id": "f6f6af8f",
   "metadata": {},
   "source": []
  }
 ],
 "metadata": {
  "kernelspec": {
   "display_name": "Python 3",
   "language": "python",
   "name": "python3"
  },
  "language_info": {
   "codemirror_mode": {
    "name": "ipython",
    "version": 3
   },
   "file_extension": ".py",
   "mimetype": "text/x-python",
   "name": "python",
   "nbconvert_exporter": "python",
   "pygments_lexer": "ipython3",
   "version": "3.13.5"
  }
 },
 "nbformat": 4,
 "nbformat_minor": 5
}
