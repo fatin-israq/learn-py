{
 "cells": [
  {
   "cell_type": "markdown",
   "id": "c563ae49",
   "metadata": {},
   "source": [
    "## Dictionaries\n",
    "\n",
    "Dictionaries are unordered collections of items. They store data in key-value pairs. Keys must be unique and immutable (eg. strigs, numbers, or tuples), while values can be of any type."
   ]
  },
  {
   "cell_type": "code",
   "execution_count": 2,
   "id": "5a6967be",
   "metadata": {},
   "outputs": [
    {
     "name": "stdout",
     "output_type": "stream",
     "text": [
      "<class 'dict'>\n"
     ]
    }
   ],
   "source": [
    "## Creating dictionary\n",
    "empty_dict = {}\n",
    "print(type(empty_dict))"
   ]
  },
  {
   "cell_type": "code",
   "execution_count": 3,
   "id": "f7620455",
   "metadata": {},
   "outputs": [
    {
     "data": {
      "text/plain": [
       "{}"
      ]
     },
     "execution_count": 3,
     "metadata": {},
     "output_type": "execute_result"
    }
   ],
   "source": [
    "empty_dict = dict()\n",
    "empty_dict"
   ]
  },
  {
   "cell_type": "code",
   "execution_count": 4,
   "id": "33a51160",
   "metadata": {},
   "outputs": [
    {
     "name": "stdout",
     "output_type": "stream",
     "text": [
      "{'name': 'Talha', 'age': 23, 'grade': 89}\n",
      "<class 'dict'>\n"
     ]
    }
   ],
   "source": [
    "student = {\"name\": \"Talha\", \"age\": 23, \"grade\": 89}\n",
    "print(student)\n",
    "print(type(student))"
   ]
  },
  {
   "cell_type": "code",
   "execution_count": null,
   "id": "d0501c12",
   "metadata": {},
   "outputs": [
    {
     "name": "stdout",
     "output_type": "stream",
     "text": [
      "{'name': 89, 'age': 23}\n"
     ]
    }
   ],
   "source": [
    "# Always single key used\n",
    "student = {\"name\": \"Talha\", \"age\": 23, \"name\": 89}\n",
    "print(student)"
   ]
  },
  {
   "cell_type": "markdown",
   "id": "94d7ff0b",
   "metadata": {},
   "source": [
    "### Accessing Dictionary Elements"
   ]
  },
  {
   "cell_type": "code",
   "execution_count": 7,
   "id": "5e2c694a",
   "metadata": {},
   "outputs": [
    {
     "name": "stdout",
     "output_type": "stream",
     "text": [
      "{'name': 'Talha', 'age': 23, 'grade': 'A'}\n"
     ]
    }
   ],
   "source": [
    "student = {\"name\": \"Talha\", \"age\": 23, \"grade\": 'A'}\n",
    "print(student)"
   ]
  },
  {
   "cell_type": "code",
   "execution_count": 12,
   "id": "d7c858b5",
   "metadata": {},
   "outputs": [
    {
     "name": "stdout",
     "output_type": "stream",
     "text": [
      "A\n",
      "23\n",
      "A\n",
      "None\n",
      "Not available\n"
     ]
    }
   ],
   "source": [
    "# Accessing dictionary elements\n",
    "print(student['grade'])\n",
    "print(student['age'])\n",
    "\n",
    "\n",
    "# Accessing using get() method\n",
    "print(student.get('grade'))\n",
    "print(student.get('last_name')) # because this key doesn't exist\n",
    "print(student.get('first_name', \"Not available\"))   # Setting default value if key doesn't exist"
   ]
  },
  {
   "cell_type": "markdown",
   "id": "ebf65883",
   "metadata": {},
   "source": [
    "### Modifying dictionary elements\n",
    "#### Dictionary are mutable, so you can add, delete, or update elements\n"
   ]
  },
  {
   "cell_type": "code",
   "execution_count": null,
   "id": "d7ad2f03",
   "metadata": {},
   "outputs": [
    {
     "name": "stdout",
     "output_type": "stream",
     "text": [
      "{'name': 'Talha', 'age': 33, 'grade': 'A'}\n",
      "{'name': 'Talha', 'age': 33, 'grade': 'A'}\n",
      "{'name': 'Talha', 'age': 33, 'grade': 'A', 'address': 'Bangladesh'}\n"
     ]
    }
   ],
   "source": [
    "print(student)\n",
    "student[\"age\"] = 33                 # Update value for a key\n",
    "print(student)\n",
    "student[\"address\"] = \"Bangladesh\"   # Added a new key and value\n",
    "print(student)"
   ]
  },
  {
   "cell_type": "code",
   "execution_count": 16,
   "id": "d72d3a1b",
   "metadata": {},
   "outputs": [
    {
     "name": "stdout",
     "output_type": "stream",
     "text": [
      "{'name': 'Talha', 'age': 33, 'grade': 'A'}\n"
     ]
    }
   ],
   "source": [
    "del student['address']              # delete key and value pair\n",
    "print(student)"
   ]
  },
  {
   "cell_type": "code",
   "execution_count": 19,
   "id": "0d0f35a3",
   "metadata": {},
   "outputs": [
    {
     "name": "stdout",
     "output_type": "stream",
     "text": [
      "dict_keys(['name', 'age', 'grade'])\n",
      "dict_values(['Talha', 33, 'A'])\n",
      "dict_items([('name', 'Talha'), ('age', 33), ('grade', 'A')])\n"
     ]
    }
   ],
   "source": [
    "## Dictionary Methods\n",
    "\n",
    "keys = student.keys()               # get all the keys\n",
    "print(keys)\n",
    "values = student.values()           # get all the values\n",
    "print(values)\n",
    "\n",
    "items = student.items()             # get all key and value pairs\n",
    "print(items)"
   ]
  }
 ],
 "metadata": {
  "kernelspec": {
   "display_name": "Python 3",
   "language": "python",
   "name": "python3"
  },
  "language_info": {
   "codemirror_mode": {
    "name": "ipython",
    "version": 3
   },
   "file_extension": ".py",
   "mimetype": "text/x-python",
   "name": "python",
   "nbconvert_exporter": "python",
   "pygments_lexer": "ipython3",
   "version": "3.13.5"
  }
 },
 "nbformat": 4,
 "nbformat_minor": 5
}
