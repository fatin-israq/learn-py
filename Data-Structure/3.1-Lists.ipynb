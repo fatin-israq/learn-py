{
 "cells": [
  {
   "cell_type": "markdown",
   "id": "3fab07ea",
   "metadata": {},
   "source": [
    "# Introduction to Lists\n",
    "* Lists are ordered, mutable collections of items.\n",
    "* They can contain items of different data types.\n",
    "\n"
   ]
  }
 ],
 "metadata": {
  "language_info": {
   "name": "python"
  }
 },
 "nbformat": 4,
 "nbformat_minor": 5
}
