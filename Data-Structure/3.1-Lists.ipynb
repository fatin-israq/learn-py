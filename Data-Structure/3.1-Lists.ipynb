{
 "cells": [
  {
   "cell_type": "markdown",
   "id": "3fab07ea",
   "metadata": {},
   "source": [
    "# Introduction to Lists\n",
    "* Lists are ordered, mutable collections of items.\n",
    "* They can contain items of different data types."
   ]
  },
  {
   "cell_type": "code",
   "execution_count": 1,
   "id": "eefa0860",
   "metadata": {},
   "outputs": [
    {
     "name": "stdout",
     "output_type": "stream",
     "text": [
      "<class 'list'>\n"
     ]
    }
   ],
   "source": [
    "list = []\n",
    "print(type(list))"
   ]
  },
  {
   "cell_type": "code",
   "execution_count": 2,
   "id": "b2ba6668",
   "metadata": {},
   "outputs": [
    {
     "name": "stdout",
     "output_type": "stream",
     "text": [
      "['Talha', 'Tahmid', 'John Doe']\n"
     ]
    }
   ],
   "source": [
    "names = [\"Talha\", \"Tahmid\", \"John Doe\"]\n",
    "print(names)"
   ]
  },
  {
   "cell_type": "code",
   "execution_count": 3,
   "id": "f2958524",
   "metadata": {},
   "outputs": [
    {
     "name": "stdout",
     "output_type": "stream",
     "text": [
      "['String', 1, 2.5, True]\n"
     ]
    }
   ],
   "source": [
    "mixed_list = [\"String\", 1, 2.5, True]\n",
    "print(mixed_list)"
   ]
  },
  {
   "cell_type": "code",
   "execution_count": 3,
   "id": "2030e464",
   "metadata": {},
   "outputs": [
    {
     "name": "stdout",
     "output_type": "stream",
     "text": [
      "apple\n",
      "lichi\n"
     ]
    }
   ],
   "source": [
    "# Accessing List Items\n",
    "\n",
    "fruits = [\"apple\", \"banana\", \"cherry\", \"mango\", \"jackfruit\", \"lichi\"]\n",
    "print(fruits[0])\n",
    "print(fruits[-1])"
   ]
  },
  {
   "cell_type": "code",
   "execution_count": 5,
   "id": "c98689f9",
   "metadata": {},
   "outputs": [
    {
     "name": "stdout",
     "output_type": "stream",
     "text": [
      "['banana', 'cherry', 'mango', 'jackfruit', 'lichi']\n",
      "['banana', 'cherry', 'mango']\n"
     ]
    }
   ],
   "source": [
    "print(fruits[1:])\n",
    "print(fruits[1:4])"
   ]
  },
  {
   "cell_type": "code",
   "execution_count": 10,
   "id": "8cc949f6",
   "metadata": {},
   "outputs": [
    {
     "data": {
      "text/plain": [
       "['apple', 'cherry', 'cherry', 'mango', 'jackfruit', 'lichi']"
      ]
     },
     "execution_count": 10,
     "metadata": {},
     "output_type": "execute_result"
    }
   ],
   "source": [
    "## Modifying the List elements\n",
    "fruits"
   ]
  },
  {
   "cell_type": "code",
   "execution_count": 11,
   "id": "5292f0f9",
   "metadata": {},
   "outputs": [
    {
     "data": {
      "text/plain": [
       "['apple', 'watermalon', 'cherry', 'mango', 'jackfruit', 'lichi']"
      ]
     },
     "execution_count": 11,
     "metadata": {},
     "output_type": "execute_result"
    }
   ],
   "source": [
    "fruits[1] = \"watermalon\"\n",
    "fruits"
   ]
  },
  {
   "cell_type": "code",
   "execution_count": 12,
   "id": "a5adb6e8",
   "metadata": {},
   "outputs": [
    {
     "data": {
      "text/plain": [
       "['apple', 'w', 'a', 't', 'e', 'r', 'm', 'a', 'l', 'o', 'n']"
      ]
     },
     "execution_count": 12,
     "metadata": {},
     "output_type": "execute_result"
    }
   ],
   "source": [
    "fruits[1:] = \"watermalon\"\n",
    "fruits"
   ]
  },
  {
   "cell_type": "code",
   "execution_count": 13,
   "id": "15fd3288",
   "metadata": {},
   "outputs": [],
   "source": [
    "fruits = [\"apple\", \"banana\", \"cherry\", \"mango\", \"jackfruit\", \"lichi\"]"
   ]
  },
  {
   "cell_type": "code",
   "execution_count": null,
   "id": "dcbb34d8",
   "metadata": {},
   "outputs": [],
   "source": [
    "# List methods "
   ]
  }
 ],
 "metadata": {
  "kernelspec": {
   "display_name": "Python 3",
   "language": "python",
   "name": "python3"
  },
  "language_info": {
   "codemirror_mode": {
    "name": "ipython",
    "version": 3
   },
   "file_extension": ".py",
   "mimetype": "text/x-python",
   "name": "python",
   "nbconvert_exporter": "python",
   "pygments_lexer": "ipython3",
   "version": "3.13.5"
  }
 },
 "nbformat": 4,
 "nbformat_minor": 5
}
