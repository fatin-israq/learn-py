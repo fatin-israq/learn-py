{
 "cells": [
  {
   "cell_type": "markdown",
   "id": "cfe50f1a",
   "metadata": {},
   "source": [
    "## Lambda functions in Python\n",
    "Lambda functions are small anonymouse functions defined using `lambda` keyword. They can have any number of arguments but only one expression. They are commonly used for short operations or arguments to higher-order functions."
   ]
  },
  {
   "cell_type": "code",
   "execution_count": null,
   "id": "15c8aac3",
   "metadata": {},
   "outputs": [],
   "source": [
    "# Syntax\n",
    "lambda arguments: expression"
   ]
  },
  {
   "cell_type": "code",
   "execution_count": 2,
   "id": "1e0a9be1",
   "metadata": {},
   "outputs": [],
   "source": [
    "# usual function\n",
    "def addition(a, b):\n",
    "    return a + b\n",
    "\n",
    "# lambda function\n",
    "addition_lambda = lambda a, b: a + b"
   ]
  },
  {
   "cell_type": "code",
   "execution_count": 3,
   "id": "8f7a90d4",
   "metadata": {},
   "outputs": [
    {
     "name": "stdout",
     "output_type": "stream",
     "text": [
      "5\n",
      "10\n"
     ]
    }
   ],
   "source": [
    "# Calling usual function\n",
    "print(addition(4, 1))\n",
    "\n",
    "# Calling lambda function\n",
    "print(addition_lambda(4, 6))"
   ]
  },
  {
   "cell_type": "code",
   "execution_count": 4,
   "id": "15e3b793",
   "metadata": {},
   "outputs": [
    {
     "data": {
      "text/plain": [
       "4"
      ]
     },
     "execution_count": 4,
     "metadata": {},
     "output_type": "execute_result"
    }
   ],
   "source": [
    "## map() - applies a function to all items in a list\n",
    "numbers = [1, 2, 3, 4, 5]\n",
    "def square(number):\n",
    "    return number**2\n",
    "\n",
    "square(2)"
   ]
  },
  {
   "cell_type": "code",
   "execution_count": 6,
   "id": "3b292e93",
   "metadata": {},
   "outputs": [
    {
     "data": {
      "text/plain": [
       "[1, 4, 9, 16, 25]"
      ]
     },
     "execution_count": 6,
     "metadata": {},
     "output_type": "execute_result"
    }
   ],
   "source": [
    "list(map(lambda x: x**2, numbers))"
   ]
  }
 ],
 "metadata": {
  "kernelspec": {
   "display_name": "Python 3",
   "language": "python",
   "name": "python3"
  },
  "language_info": {
   "codemirror_mode": {
    "name": "ipython",
    "version": 3
   },
   "file_extension": ".py",
   "mimetype": "text/x-python",
   "name": "python",
   "nbconvert_exporter": "python",
   "pygments_lexer": "ipython3",
   "version": "3.13.5"
  }
 },
 "nbformat": 4,
 "nbformat_minor": 5
}
