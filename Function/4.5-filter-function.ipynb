{
 "cells": [
  {
   "cell_type": "markdown",
   "id": "e3d8bb81",
   "metadata": {},
   "source": [
    "## The filter() function in Python\n",
    "\n",
    "The filter() function constructs an iterator from elements of an iterable for which a function returns true. It is used to filter out items from a list (or any other iterable) based on a condition."
   ]
  },
  {
   "cell_type": "code",
   "execution_count": 2,
   "id": "abae330a",
   "metadata": {},
   "outputs": [
    {
     "data": {
      "text/plain": [
       "True"
      ]
     },
     "execution_count": 2,
     "metadata": {},
     "output_type": "execute_result"
    }
   ],
   "source": [
    "def is_even(num):\n",
    "    return num % 2 == 0\n",
    "    \n",
    "is_even(24)"
   ]
  },
  {
   "cell_type": "code",
   "execution_count": null,
   "id": "21210457",
   "metadata": {},
   "outputs": [
    {
     "name": "stdout",
     "output_type": "stream",
     "text": [
      "[2, 4, 6, 8, 10, 12]\n",
      "<class 'type'>\n"
     ]
    }
   ],
   "source": [
    "number_list = [1, 2, 3, 4, 5, 6, 7, 8, 9, 10, 11, 12]\n",
    "\n",
    "filtered_numbers = list(filter(is_even, number_list))\n",
    "print(filtered_numbers)\n",
    "\n",
    "print(type(filter))"
   ]
  },
  {
   "cell_type": "code",
   "execution_count": 5,
   "id": "87655899",
   "metadata": {},
   "outputs": [
    {
     "name": "stdout",
     "output_type": "stream",
     "text": [
      "[6, 7, 8, 9]\n"
     ]
    }
   ],
   "source": [
    "# filter with a lambda function\n",
    "\n",
    "# filter with greater than 5\n",
    "numbers = [1, 2, 3, 4, 5, 6, 7, 8, 9]\n",
    "greater_than_five = list(filter(lambda x: x>5, numbers))\n",
    "print(greater_than_five)"
   ]
  },
  {
   "cell_type": "code",
   "execution_count": null,
   "id": "f0fec5d6",
   "metadata": {},
   "outputs": [
    {
     "name": "stdout",
     "output_type": "stream",
     "text": [
      "[6, 8]\n"
     ]
    }
   ],
   "source": [
    "# filter with lambda function with multiple conditions\n",
    "\n",
    "# filter with even and greater than 5\n",
    "numbers = [1, 2, 3, 4, 5, 6, 7, 8, 9]\n",
    "even_and_greater_than_five = list(filter(lambda x: x>5 and x%2==0, numbers))\n",
    "print(even_and_greater_than_five)"
   ]
  },
  {
   "cell_type": "code",
   "execution_count": null,
   "id": "d851dab0",
   "metadata": {},
   "outputs": [
    {
     "data": {
      "text/plain": [
       "[{'name': 'Talha', 'age': 23}, {'name': 'Robin', 'age': 30}]"
      ]
     },
     "execution_count": 7,
     "metadata": {},
     "output_type": "execute_result"
    }
   ],
   "source": [
    "# Filter to check if the age is greater than 25 in dictionaries\n",
    "people = [\n",
    "    {'name': 'Talha', 'age': 23},\n",
    "    {'name': 'Tahmid', 'age': 20},\n",
    "    {'name': 'Robin', 'age': 30}\n",
    "    ]\n",
    "\n",
    "def age_greater_than_20(person):\n",
    "    return person['age'] > 20\n",
    "\n",
    "list(filter(age_greater_than_20, people))"
   ]
  },
  {
   "cell_type": "markdown",
   "id": "977d3316",
   "metadata": {},
   "source": [
    "## Conclusion\n",
    "Filter function is a powerful tools for creating iterators that filter items out of an iterable based on a function. It is commonly used for data cleaning, filter objects, and removing unwanted elements from lists. By mastering filters, we can write more concise and efficient code for processing and manipulating collections in Python."
   ]
  }
 ],
 "metadata": {
  "kernelspec": {
   "display_name": "Python 3",
   "language": "python",
   "name": "python3"
  },
  "language_info": {
   "codemirror_mode": {
    "name": "ipython",
    "version": 3
   },
   "file_extension": ".py",
   "mimetype": "text/x-python",
   "name": "python",
   "nbconvert_exporter": "python",
   "pygments_lexer": "ipython3",
   "version": "3.13.5"
  }
 },
 "nbformat": 4,
 "nbformat_minor": 5
}
