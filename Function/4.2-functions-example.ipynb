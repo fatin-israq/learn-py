{
 "cells": [
  {
   "cell_type": "markdown",
   "id": "8f301193",
   "metadata": {},
   "source": [
    "## Example: Password Strength Checker"
   ]
  },
  {
   "cell_type": "code",
   "execution_count": null,
   "id": "ee5c149b",
   "metadata": {},
   "outputs": [
    {
     "name": "stdout",
     "output_type": "stream",
     "text": [
      "True\n",
      "False\n"
     ]
    }
   ],
   "source": [
    "def is_strong_pass(password):\n",
    "    \"\"\"This function checks if the password is strong or not\"\"\"\n",
    "    if len(password) < 8:\n",
    "        return False\n",
    "    if not any(char.isdigit() for char in password):\n",
    "        return False\n",
    "    if not any(char.islower() for char in password):\n",
    "        return False\n",
    "    if not any(char.isupper() for char in password):\n",
    "        return False\n",
    "    if not any(char in \"~!@#$%^&*()_+\" for char in password):\n",
    "        return False\n",
    "    return True\n",
    "\n",
    "# Calling the function\n",
    "print(is_strong_pass(\"BigFatB0y!\"))\n",
    "print(is_strong_pass(\"whokilledhim??\")) # missing digit"
   ]
  },
  {
   "cell_type": "markdown",
   "id": "3127d13a",
   "metadata": {},
   "source": [
    "## Example: Calculating the Total Cost of a Shopping Cart"
   ]
  },
  {
   "cell_type": "code",
   "execution_count": 10,
   "id": "cc3cc130",
   "metadata": {},
   "outputs": [
    {
     "data": {
      "text/plain": [
       "360"
      ]
     },
     "execution_count": 10,
     "metadata": {},
     "output_type": "execute_result"
    }
   ],
   "source": [
    "def calculate_total_cost(cart):\n",
    "    total = 0\n",
    "    for item in cart:\n",
    "        total += item['price'] * item['quantity']\n",
    "    return total\n",
    "\n",
    "## Example cart data\n",
    "cart = [\n",
    "    {'name': 'Banana', 'price': 40, 'quantity': 2},\n",
    "    {'name': 'Egg', 'price': 40, 'quantity': 3},\n",
    "    {'name': 'Noodles', 'price': 25, 'quantity': 4},\n",
    "    {'name': 'Bread', 'price': 60, 'quantity': 1}\n",
    "]               # 360 total\n",
    "\n",
    "calculate_total_cost(cart)"
   ]
  },
  {
   "cell_type": "markdown",
   "id": "ff209001",
   "metadata": {},
   "source": [
    "## Example: Check if a String is Palindrome"
   ]
  },
  {
   "cell_type": "code",
   "execution_count": null,
   "id": "1abef78e",
   "metadata": {},
   "outputs": [
    {
     "name": "stdout",
     "output_type": "stream",
     "text": [
      "False\n",
      "True\n"
     ]
    }
   ],
   "source": [
    "def is_palindrome(string):\n",
    "    string = string.lower().replace(\" \",\"\")\n",
    "    ## string[::-1] means reverse string\n",
    "    return string == string[::-1]\n",
    "\n",
    "s = \"Hello, I am Noman\"\n",
    "print(is_palindrome(s))\n",
    "\n",
    "str = \"Madam\"\n",
    "print(is_palindrome(str))"
   ]
  },
  {
   "cell_type": "markdown",
   "id": "a0389e44",
   "metadata": {},
   "source": [
    "## Calculate the Factorial of a Number"
   ]
  },
  {
   "cell_type": "code",
   "execution_count": 16,
   "id": "5f90ee5a",
   "metadata": {},
   "outputs": [
    {
     "name": "stdout",
     "output_type": "stream",
     "text": [
      "120\n"
     ]
    }
   ],
   "source": [
    "def factorial(num):\n",
    "    if num==0:\n",
    "        return 1\n",
    "    else:\n",
    "        return num * factorial(num-1)\n",
    "    \n",
    "print(factorial(5))"
   ]
  }
 ],
 "metadata": {
  "kernelspec": {
   "display_name": "Python 3",
   "language": "python",
   "name": "python3"
  },
  "language_info": {
   "codemirror_mode": {
    "name": "ipython",
    "version": 3
   },
   "file_extension": ".py",
   "mimetype": "text/x-python",
   "name": "python",
   "nbconvert_exporter": "python",
   "pygments_lexer": "ipython3",
   "version": "3.13.5"
  }
 },
 "nbformat": 4,
 "nbformat_minor": 5
}
